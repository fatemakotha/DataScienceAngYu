{
 "cells": [
  {
   "cell_type": "markdown",
   "source": [
    "**Import pandas into your notebook and read the .csv file:**"
   ],
   "metadata": {
    "collapsed": false
   },
   "id": "66b3d261b2cbd3b2"
  },
  {
   "cell_type": "code",
   "execution_count": 7,
   "outputs": [],
   "source": [
    "import pandas as pd\n",
    "df = pd.read_csv('salaries_by_college_major.csv')"
   ],
   "metadata": {
    "collapsed": false,
    "ExecuteTime": {
     "end_time": "2024-01-20T15:37:03.742362Z",
     "start_time": "2024-01-20T15:37:03.721387Z"
    }
   },
   "id": "e0162bd3db4f9b33"
  },
  {
   "cell_type": "markdown",
   "source": [
    "**Now take a look at the Pandas dataframe we've just created with .head(). This will show us the first 5 rows of our dataframe:**"
   ],
   "metadata": {
    "collapsed": false
   },
   "id": "c904adaefcd48667"
  },
  {
   "cell_type": "code",
   "execution_count": 9,
   "outputs": [
    {
     "data": {
      "text/plain": "     Undergraduate Major  Starting Median Salary  Mid-Career Median Salary  \\\n0             Accounting                 46000.0                   77100.0   \n1  Aerospace Engineering                 57700.0                  101000.0   \n2            Agriculture                 42600.0                   71900.0   \n3           Anthropology                 36800.0                   61500.0   \n4           Architecture                 41600.0                   76800.0   \n\n   Mid-Career 10th Percentile Salary  Mid-Career 90th Percentile Salary  \\\n0                            42200.0                           152000.0   \n1                            64300.0                           161000.0   \n2                            36300.0                           150000.0   \n3                            33800.0                           138000.0   \n4                            50600.0                           136000.0   \n\n      Group  \n0  Business  \n1      STEM  \n2  Business  \n3      HASS  \n4  Business  ",
      "text/html": "<div>\n<style scoped>\n    .dataframe tbody tr th:only-of-type {\n        vertical-align: middle;\n    }\n\n    .dataframe tbody tr th {\n        vertical-align: top;\n    }\n\n    .dataframe thead th {\n        text-align: right;\n    }\n</style>\n<table border=\"1\" class=\"dataframe\">\n  <thead>\n    <tr style=\"text-align: right;\">\n      <th></th>\n      <th>Undergraduate Major</th>\n      <th>Starting Median Salary</th>\n      <th>Mid-Career Median Salary</th>\n      <th>Mid-Career 10th Percentile Salary</th>\n      <th>Mid-Career 90th Percentile Salary</th>\n      <th>Group</th>\n    </tr>\n  </thead>\n  <tbody>\n    <tr>\n      <th>0</th>\n      <td>Accounting</td>\n      <td>46000.0</td>\n      <td>77100.0</td>\n      <td>42200.0</td>\n      <td>152000.0</td>\n      <td>Business</td>\n    </tr>\n    <tr>\n      <th>1</th>\n      <td>Aerospace Engineering</td>\n      <td>57700.0</td>\n      <td>101000.0</td>\n      <td>64300.0</td>\n      <td>161000.0</td>\n      <td>STEM</td>\n    </tr>\n    <tr>\n      <th>2</th>\n      <td>Agriculture</td>\n      <td>42600.0</td>\n      <td>71900.0</td>\n      <td>36300.0</td>\n      <td>150000.0</td>\n      <td>Business</td>\n    </tr>\n    <tr>\n      <th>3</th>\n      <td>Anthropology</td>\n      <td>36800.0</td>\n      <td>61500.0</td>\n      <td>33800.0</td>\n      <td>138000.0</td>\n      <td>HASS</td>\n    </tr>\n    <tr>\n      <th>4</th>\n      <td>Architecture</td>\n      <td>41600.0</td>\n      <td>76800.0</td>\n      <td>50600.0</td>\n      <td>136000.0</td>\n      <td>Business</td>\n    </tr>\n  </tbody>\n</table>\n</div>"
     },
     "execution_count": 9,
     "metadata": {},
     "output_type": "execute_result"
    }
   ],
   "source": [
    "df.head()"
   ],
   "metadata": {
    "collapsed": false,
    "ExecuteTime": {
     "end_time": "2024-01-20T15:37:48.125617Z",
     "start_time": "2024-01-20T15:37:48.122515Z"
    }
   },
   "id": "5e4ea6a8c4966ed"
  },
  {
   "cell_type": "markdown",
   "source": [
    "**To see the number of rows and columns we can use the shape attribute:**"
   ],
   "metadata": {
    "collapsed": false
   },
   "id": "424358426d91afb9"
  },
  {
   "cell_type": "code",
   "execution_count": 10,
   "outputs": [
    {
     "data": {
      "text/plain": "(51, 6)"
     },
     "execution_count": 10,
     "metadata": {},
     "output_type": "execute_result"
    }
   ],
   "source": [
    "df.shape"
   ],
   "metadata": {
    "collapsed": false,
    "ExecuteTime": {
     "end_time": "2024-01-20T15:38:57.213709Z",
     "start_time": "2024-01-20T15:38:57.208925Z"
    }
   },
   "id": "d8a73e9c178186b"
  },
  {
   "cell_type": "markdown",
   "source": [
    "**We saw that each column had a name. We can access the column names directly with the columns attribute**"
   ],
   "metadata": {
    "collapsed": false
   },
   "id": "517c1b22ed7bc8f1"
  },
  {
   "cell_type": "code",
   "execution_count": 11,
   "outputs": [
    {
     "data": {
      "text/plain": "Index(['Undergraduate Major', 'Starting Median Salary',\n       'Mid-Career Median Salary', 'Mid-Career 10th Percentile Salary',\n       'Mid-Career 90th Percentile Salary', 'Group'],\n      dtype='object')"
     },
     "execution_count": 11,
     "metadata": {},
     "output_type": "execute_result"
    }
   ],
   "source": [
    "df.columns"
   ],
   "metadata": {
    "collapsed": false,
    "ExecuteTime": {
     "end_time": "2024-01-20T15:39:28.721525Z",
     "start_time": "2024-01-20T15:39:28.708744Z"
    }
   },
   "id": "9a237aee73131360"
  },
  {
   "cell_type": "markdown",
   "source": [
    "**Missing Values and Junk Data\n",
    "In this case, we're going to look for NaN (Not A Number) values in our dataframe:**\n"
   ],
   "metadata": {
    "collapsed": false
   },
   "id": "be6ff6e5c63410a9"
  },
  {
   "cell_type": "code",
   "execution_count": 15,
   "outputs": [
    {
     "data": {
      "text/plain": "<bound method DataFrame.isna of                      Undergraduate Major  Starting Median Salary  \\\n0                             Accounting                 46000.0   \n1                  Aerospace Engineering                 57700.0   \n2                            Agriculture                 42600.0   \n3                           Anthropology                 36800.0   \n4                           Architecture                 41600.0   \n5                            Art History                 35800.0   \n6                                Biology                 38800.0   \n7                    Business Management                 43000.0   \n8                   Chemical Engineering                 63200.0   \n9                              Chemistry                 42600.0   \n10                     Civil Engineering                 53900.0   \n11                        Communications                 38100.0   \n12                  Computer Engineering                 61400.0   \n13                      Computer Science                 55900.0   \n14                          Construction                 53700.0   \n15                      Criminal Justice                 35000.0   \n16                                 Drama                 35900.0   \n17                             Economics                 50100.0   \n18                             Education                 34900.0   \n19                Electrical Engineering                 60900.0   \n20                               English                 38000.0   \n21                                  Film                 37900.0   \n22                               Finance                 47900.0   \n23                              Forestry                 39100.0   \n24                             Geography                 41200.0   \n25                               Geology                 43500.0   \n26                        Graphic Design                 35700.0   \n27            Health Care Administration                 38800.0   \n28                               History                 39200.0   \n29                 Hospitality & Tourism                 37800.0   \n30                Industrial Engineering                 57700.0   \n31           Information Technology (IT)                 49100.0   \n32                       Interior Design                 36100.0   \n33               International Relations                 40900.0   \n34                            Journalism                 35600.0   \n35  Management Information Systems (MIS)                 49200.0   \n36                             Marketing                 40800.0   \n37                                  Math                 45400.0   \n38                Mechanical Engineering                 57900.0   \n39                                 Music                 35900.0   \n40                               Nursing                 54200.0   \n41                             Nutrition                 39900.0   \n42                            Philosophy                 39900.0   \n43                   Physician Assistant                 74300.0   \n44                               Physics                 50300.0   \n45                     Political Science                 40800.0   \n46                            Psychology                 35900.0   \n47                              Religion                 34100.0   \n48                             Sociology                 36500.0   \n49                               Spanish                 34000.0   \n50                 Source: PayScale Inc.                     NaN   \n\n    Mid-Career Median Salary  Mid-Career 10th Percentile Salary  \\\n0                    77100.0                            42200.0   \n1                   101000.0                            64300.0   \n2                    71900.0                            36300.0   \n3                    61500.0                            33800.0   \n4                    76800.0                            50600.0   \n5                    64900.0                            28800.0   \n6                    64800.0                            36900.0   \n7                    72100.0                            38800.0   \n8                   107000.0                            71900.0   \n9                    79900.0                            45300.0   \n10                   90500.0                            63400.0   \n11                   70000.0                            37500.0   \n12                  105000.0                            66100.0   \n13                   95500.0                            56000.0   \n14                   88900.0                            56300.0   \n15                   56300.0                            32200.0   \n16                   56900.0                            36700.0   \n17                   98600.0                            50600.0   \n18                   52000.0                            29300.0   \n19                  103000.0                            69300.0   \n20                   64700.0                            33400.0   \n21                   68500.0                            33900.0   \n22                   88300.0                            47200.0   \n23                   62600.0                            41000.0   \n24                   65500.0                            40000.0   \n25                   79500.0                            45000.0   \n26                   59800.0                            36000.0   \n27                   60600.0                            34600.0   \n28                   71000.0                            37000.0   \n29                   57500.0                            35500.0   \n30                   94700.0                            57100.0   \n31                   74800.0                            44500.0   \n32                   53200.0                            35700.0   \n33                   80900.0                            38200.0   \n34                   66700.0                            38400.0   \n35                   82300.0                            45300.0   \n36                   79600.0                            42100.0   \n37                   92400.0                            45200.0   \n38                   93600.0                            63700.0   \n39                   55000.0                            26700.0   \n40                   67000.0                            47600.0   \n41                   55300.0                            33900.0   \n42                   81200.0                            35500.0   \n43                   91700.0                            66400.0   \n44                   97300.0                            56000.0   \n45                   78200.0                            41200.0   \n46                   60400.0                            31600.0   \n47                   52000.0                            29700.0   \n48                   58200.0                            30700.0   \n49                   53100.0                            31000.0   \n50                       NaN                                NaN   \n\n    Mid-Career 90th Percentile Salary     Group  \n0                            152000.0  Business  \n1                            161000.0      STEM  \n2                            150000.0  Business  \n3                            138000.0      HASS  \n4                            136000.0  Business  \n5                            125000.0      HASS  \n6                            135000.0      STEM  \n7                            147000.0  Business  \n8                            194000.0      STEM  \n9                            148000.0      STEM  \n10                           148000.0      STEM  \n11                           143000.0      HASS  \n12                           162000.0      STEM  \n13                           154000.0      STEM  \n14                           171000.0  Business  \n15                           107000.0      HASS  \n16                           153000.0      HASS  \n17                           210000.0  Business  \n18                           102000.0      HASS  \n19                           168000.0      STEM  \n20                           133000.0      HASS  \n21                           136000.0      HASS  \n22                           195000.0  Business  \n23                           111000.0  Business  \n24                           132000.0      HASS  \n25                           156000.0      STEM  \n26                           112000.0      HASS  \n27                           101000.0  Business  \n28                           149000.0      HASS  \n29                           124000.0  Business  \n30                           173000.0      STEM  \n31                           129000.0      STEM  \n32                           107000.0      HASS  \n33                           157000.0      HASS  \n34                           145000.0      HASS  \n35                           146000.0      STEM  \n36                           175000.0  Business  \n37                           183000.0      STEM  \n38                           163000.0      STEM  \n39                           134000.0      HASS  \n40                            98300.0  Business  \n41                            99200.0      HASS  \n42                           168000.0      HASS  \n43                           124000.0      STEM  \n44                           178000.0      STEM  \n45                           168000.0      HASS  \n46                           127000.0      HASS  \n47                            96400.0      HASS  \n48                           118000.0      HASS  \n49                            96400.0      HASS  \n50                                NaN       NaN  >"
     },
     "execution_count": 15,
     "metadata": {},
     "output_type": "execute_result"
    }
   ],
   "source": [
    "df.isna"
   ],
   "metadata": {
    "collapsed": false,
    "ExecuteTime": {
     "end_time": "2024-01-20T15:48:05.049869Z",
     "start_time": "2024-01-20T15:48:05.046526Z"
    }
   },
   "id": "ec19e46394c8a27b"
  },
  {
   "cell_type": "code",
   "execution_count": 16,
   "outputs": [
    {
     "data": {
      "text/plain": "    Undergraduate Major  Starting Median Salary  Mid-Career Median Salary  \\\n0                 False                   False                     False   \n1                 False                   False                     False   \n2                 False                   False                     False   \n3                 False                   False                     False   \n4                 False                   False                     False   \n5                 False                   False                     False   \n6                 False                   False                     False   \n7                 False                   False                     False   \n8                 False                   False                     False   \n9                 False                   False                     False   \n10                False                   False                     False   \n11                False                   False                     False   \n12                False                   False                     False   \n13                False                   False                     False   \n14                False                   False                     False   \n15                False                   False                     False   \n16                False                   False                     False   \n17                False                   False                     False   \n18                False                   False                     False   \n19                False                   False                     False   \n20                False                   False                     False   \n21                False                   False                     False   \n22                False                   False                     False   \n23                False                   False                     False   \n24                False                   False                     False   \n25                False                   False                     False   \n26                False                   False                     False   \n27                False                   False                     False   \n28                False                   False                     False   \n29                False                   False                     False   \n30                False                   False                     False   \n31                False                   False                     False   \n32                False                   False                     False   \n33                False                   False                     False   \n34                False                   False                     False   \n35                False                   False                     False   \n36                False                   False                     False   \n37                False                   False                     False   \n38                False                   False                     False   \n39                False                   False                     False   \n40                False                   False                     False   \n41                False                   False                     False   \n42                False                   False                     False   \n43                False                   False                     False   \n44                False                   False                     False   \n45                False                   False                     False   \n46                False                   False                     False   \n47                False                   False                     False   \n48                False                   False                     False   \n49                False                   False                     False   \n50                False                    True                      True   \n\n    Mid-Career 10th Percentile Salary  Mid-Career 90th Percentile Salary  \\\n0                               False                              False   \n1                               False                              False   \n2                               False                              False   \n3                               False                              False   \n4                               False                              False   \n5                               False                              False   \n6                               False                              False   \n7                               False                              False   \n8                               False                              False   \n9                               False                              False   \n10                              False                              False   \n11                              False                              False   \n12                              False                              False   \n13                              False                              False   \n14                              False                              False   \n15                              False                              False   \n16                              False                              False   \n17                              False                              False   \n18                              False                              False   \n19                              False                              False   \n20                              False                              False   \n21                              False                              False   \n22                              False                              False   \n23                              False                              False   \n24                              False                              False   \n25                              False                              False   \n26                              False                              False   \n27                              False                              False   \n28                              False                              False   \n29                              False                              False   \n30                              False                              False   \n31                              False                              False   \n32                              False                              False   \n33                              False                              False   \n34                              False                              False   \n35                              False                              False   \n36                              False                              False   \n37                              False                              False   \n38                              False                              False   \n39                              False                              False   \n40                              False                              False   \n41                              False                              False   \n42                              False                              False   \n43                              False                              False   \n44                              False                              False   \n45                              False                              False   \n46                              False                              False   \n47                              False                              False   \n48                              False                              False   \n49                              False                              False   \n50                               True                               True   \n\n    Group  \n0   False  \n1   False  \n2   False  \n3   False  \n4   False  \n5   False  \n6   False  \n7   False  \n8   False  \n9   False  \n10  False  \n11  False  \n12  False  \n13  False  \n14  False  \n15  False  \n16  False  \n17  False  \n18  False  \n19  False  \n20  False  \n21  False  \n22  False  \n23  False  \n24  False  \n25  False  \n26  False  \n27  False  \n28  False  \n29  False  \n30  False  \n31  False  \n32  False  \n33  False  \n34  False  \n35  False  \n36  False  \n37  False  \n38  False  \n39  False  \n40  False  \n41  False  \n42  False  \n43  False  \n44  False  \n45  False  \n46  False  \n47  False  \n48  False  \n49  False  \n50   True  ",
      "text/html": "<div>\n<style scoped>\n    .dataframe tbody tr th:only-of-type {\n        vertical-align: middle;\n    }\n\n    .dataframe tbody tr th {\n        vertical-align: top;\n    }\n\n    .dataframe thead th {\n        text-align: right;\n    }\n</style>\n<table border=\"1\" class=\"dataframe\">\n  <thead>\n    <tr style=\"text-align: right;\">\n      <th></th>\n      <th>Undergraduate Major</th>\n      <th>Starting Median Salary</th>\n      <th>Mid-Career Median Salary</th>\n      <th>Mid-Career 10th Percentile Salary</th>\n      <th>Mid-Career 90th Percentile Salary</th>\n      <th>Group</th>\n    </tr>\n  </thead>\n  <tbody>\n    <tr>\n      <th>0</th>\n      <td>False</td>\n      <td>False</td>\n      <td>False</td>\n      <td>False</td>\n      <td>False</td>\n      <td>False</td>\n    </tr>\n    <tr>\n      <th>1</th>\n      <td>False</td>\n      <td>False</td>\n      <td>False</td>\n      <td>False</td>\n      <td>False</td>\n      <td>False</td>\n    </tr>\n    <tr>\n      <th>2</th>\n      <td>False</td>\n      <td>False</td>\n      <td>False</td>\n      <td>False</td>\n      <td>False</td>\n      <td>False</td>\n    </tr>\n    <tr>\n      <th>3</th>\n      <td>False</td>\n      <td>False</td>\n      <td>False</td>\n      <td>False</td>\n      <td>False</td>\n      <td>False</td>\n    </tr>\n    <tr>\n      <th>4</th>\n      <td>False</td>\n      <td>False</td>\n      <td>False</td>\n      <td>False</td>\n      <td>False</td>\n      <td>False</td>\n    </tr>\n    <tr>\n      <th>5</th>\n      <td>False</td>\n      <td>False</td>\n      <td>False</td>\n      <td>False</td>\n      <td>False</td>\n      <td>False</td>\n    </tr>\n    <tr>\n      <th>6</th>\n      <td>False</td>\n      <td>False</td>\n      <td>False</td>\n      <td>False</td>\n      <td>False</td>\n      <td>False</td>\n    </tr>\n    <tr>\n      <th>7</th>\n      <td>False</td>\n      <td>False</td>\n      <td>False</td>\n      <td>False</td>\n      <td>False</td>\n      <td>False</td>\n    </tr>\n    <tr>\n      <th>8</th>\n      <td>False</td>\n      <td>False</td>\n      <td>False</td>\n      <td>False</td>\n      <td>False</td>\n      <td>False</td>\n    </tr>\n    <tr>\n      <th>9</th>\n      <td>False</td>\n      <td>False</td>\n      <td>False</td>\n      <td>False</td>\n      <td>False</td>\n      <td>False</td>\n    </tr>\n    <tr>\n      <th>10</th>\n      <td>False</td>\n      <td>False</td>\n      <td>False</td>\n      <td>False</td>\n      <td>False</td>\n      <td>False</td>\n    </tr>\n    <tr>\n      <th>11</th>\n      <td>False</td>\n      <td>False</td>\n      <td>False</td>\n      <td>False</td>\n      <td>False</td>\n      <td>False</td>\n    </tr>\n    <tr>\n      <th>12</th>\n      <td>False</td>\n      <td>False</td>\n      <td>False</td>\n      <td>False</td>\n      <td>False</td>\n      <td>False</td>\n    </tr>\n    <tr>\n      <th>13</th>\n      <td>False</td>\n      <td>False</td>\n      <td>False</td>\n      <td>False</td>\n      <td>False</td>\n      <td>False</td>\n    </tr>\n    <tr>\n      <th>14</th>\n      <td>False</td>\n      <td>False</td>\n      <td>False</td>\n      <td>False</td>\n      <td>False</td>\n      <td>False</td>\n    </tr>\n    <tr>\n      <th>15</th>\n      <td>False</td>\n      <td>False</td>\n      <td>False</td>\n      <td>False</td>\n      <td>False</td>\n      <td>False</td>\n    </tr>\n    <tr>\n      <th>16</th>\n      <td>False</td>\n      <td>False</td>\n      <td>False</td>\n      <td>False</td>\n      <td>False</td>\n      <td>False</td>\n    </tr>\n    <tr>\n      <th>17</th>\n      <td>False</td>\n      <td>False</td>\n      <td>False</td>\n      <td>False</td>\n      <td>False</td>\n      <td>False</td>\n    </tr>\n    <tr>\n      <th>18</th>\n      <td>False</td>\n      <td>False</td>\n      <td>False</td>\n      <td>False</td>\n      <td>False</td>\n      <td>False</td>\n    </tr>\n    <tr>\n      <th>19</th>\n      <td>False</td>\n      <td>False</td>\n      <td>False</td>\n      <td>False</td>\n      <td>False</td>\n      <td>False</td>\n    </tr>\n    <tr>\n      <th>20</th>\n      <td>False</td>\n      <td>False</td>\n      <td>False</td>\n      <td>False</td>\n      <td>False</td>\n      <td>False</td>\n    </tr>\n    <tr>\n      <th>21</th>\n      <td>False</td>\n      <td>False</td>\n      <td>False</td>\n      <td>False</td>\n      <td>False</td>\n      <td>False</td>\n    </tr>\n    <tr>\n      <th>22</th>\n      <td>False</td>\n      <td>False</td>\n      <td>False</td>\n      <td>False</td>\n      <td>False</td>\n      <td>False</td>\n    </tr>\n    <tr>\n      <th>23</th>\n      <td>False</td>\n      <td>False</td>\n      <td>False</td>\n      <td>False</td>\n      <td>False</td>\n      <td>False</td>\n    </tr>\n    <tr>\n      <th>24</th>\n      <td>False</td>\n      <td>False</td>\n      <td>False</td>\n      <td>False</td>\n      <td>False</td>\n      <td>False</td>\n    </tr>\n    <tr>\n      <th>25</th>\n      <td>False</td>\n      <td>False</td>\n      <td>False</td>\n      <td>False</td>\n      <td>False</td>\n      <td>False</td>\n    </tr>\n    <tr>\n      <th>26</th>\n      <td>False</td>\n      <td>False</td>\n      <td>False</td>\n      <td>False</td>\n      <td>False</td>\n      <td>False</td>\n    </tr>\n    <tr>\n      <th>27</th>\n      <td>False</td>\n      <td>False</td>\n      <td>False</td>\n      <td>False</td>\n      <td>False</td>\n      <td>False</td>\n    </tr>\n    <tr>\n      <th>28</th>\n      <td>False</td>\n      <td>False</td>\n      <td>False</td>\n      <td>False</td>\n      <td>False</td>\n      <td>False</td>\n    </tr>\n    <tr>\n      <th>29</th>\n      <td>False</td>\n      <td>False</td>\n      <td>False</td>\n      <td>False</td>\n      <td>False</td>\n      <td>False</td>\n    </tr>\n    <tr>\n      <th>30</th>\n      <td>False</td>\n      <td>False</td>\n      <td>False</td>\n      <td>False</td>\n      <td>False</td>\n      <td>False</td>\n    </tr>\n    <tr>\n      <th>31</th>\n      <td>False</td>\n      <td>False</td>\n      <td>False</td>\n      <td>False</td>\n      <td>False</td>\n      <td>False</td>\n    </tr>\n    <tr>\n      <th>32</th>\n      <td>False</td>\n      <td>False</td>\n      <td>False</td>\n      <td>False</td>\n      <td>False</td>\n      <td>False</td>\n    </tr>\n    <tr>\n      <th>33</th>\n      <td>False</td>\n      <td>False</td>\n      <td>False</td>\n      <td>False</td>\n      <td>False</td>\n      <td>False</td>\n    </tr>\n    <tr>\n      <th>34</th>\n      <td>False</td>\n      <td>False</td>\n      <td>False</td>\n      <td>False</td>\n      <td>False</td>\n      <td>False</td>\n    </tr>\n    <tr>\n      <th>35</th>\n      <td>False</td>\n      <td>False</td>\n      <td>False</td>\n      <td>False</td>\n      <td>False</td>\n      <td>False</td>\n    </tr>\n    <tr>\n      <th>36</th>\n      <td>False</td>\n      <td>False</td>\n      <td>False</td>\n      <td>False</td>\n      <td>False</td>\n      <td>False</td>\n    </tr>\n    <tr>\n      <th>37</th>\n      <td>False</td>\n      <td>False</td>\n      <td>False</td>\n      <td>False</td>\n      <td>False</td>\n      <td>False</td>\n    </tr>\n    <tr>\n      <th>38</th>\n      <td>False</td>\n      <td>False</td>\n      <td>False</td>\n      <td>False</td>\n      <td>False</td>\n      <td>False</td>\n    </tr>\n    <tr>\n      <th>39</th>\n      <td>False</td>\n      <td>False</td>\n      <td>False</td>\n      <td>False</td>\n      <td>False</td>\n      <td>False</td>\n    </tr>\n    <tr>\n      <th>40</th>\n      <td>False</td>\n      <td>False</td>\n      <td>False</td>\n      <td>False</td>\n      <td>False</td>\n      <td>False</td>\n    </tr>\n    <tr>\n      <th>41</th>\n      <td>False</td>\n      <td>False</td>\n      <td>False</td>\n      <td>False</td>\n      <td>False</td>\n      <td>False</td>\n    </tr>\n    <tr>\n      <th>42</th>\n      <td>False</td>\n      <td>False</td>\n      <td>False</td>\n      <td>False</td>\n      <td>False</td>\n      <td>False</td>\n    </tr>\n    <tr>\n      <th>43</th>\n      <td>False</td>\n      <td>False</td>\n      <td>False</td>\n      <td>False</td>\n      <td>False</td>\n      <td>False</td>\n    </tr>\n    <tr>\n      <th>44</th>\n      <td>False</td>\n      <td>False</td>\n      <td>False</td>\n      <td>False</td>\n      <td>False</td>\n      <td>False</td>\n    </tr>\n    <tr>\n      <th>45</th>\n      <td>False</td>\n      <td>False</td>\n      <td>False</td>\n      <td>False</td>\n      <td>False</td>\n      <td>False</td>\n    </tr>\n    <tr>\n      <th>46</th>\n      <td>False</td>\n      <td>False</td>\n      <td>False</td>\n      <td>False</td>\n      <td>False</td>\n      <td>False</td>\n    </tr>\n    <tr>\n      <th>47</th>\n      <td>False</td>\n      <td>False</td>\n      <td>False</td>\n      <td>False</td>\n      <td>False</td>\n      <td>False</td>\n    </tr>\n    <tr>\n      <th>48</th>\n      <td>False</td>\n      <td>False</td>\n      <td>False</td>\n      <td>False</td>\n      <td>False</td>\n      <td>False</td>\n    </tr>\n    <tr>\n      <th>49</th>\n      <td>False</td>\n      <td>False</td>\n      <td>False</td>\n      <td>False</td>\n      <td>False</td>\n      <td>False</td>\n    </tr>\n    <tr>\n      <th>50</th>\n      <td>False</td>\n      <td>True</td>\n      <td>True</td>\n      <td>True</td>\n      <td>True</td>\n      <td>True</td>\n    </tr>\n  </tbody>\n</table>\n</div>"
     },
     "execution_count": 16,
     "metadata": {},
     "output_type": "execute_result"
    }
   ],
   "source": [
    "df.isna()"
   ],
   "metadata": {
    "collapsed": false,
    "ExecuteTime": {
     "end_time": "2024-01-20T15:48:22.133085Z",
     "start_time": "2024-01-20T15:48:22.129456Z"
    }
   },
   "id": "13960847642d7a7"
  },
  {
   "cell_type": "code",
   "execution_count": 14,
   "outputs": [
    {
     "data": {
      "text/plain": "      Undergraduate Major  Starting Median Salary  Mid-Career Median Salary  \\\n46             Psychology                 35900.0                   60400.0   \n47               Religion                 34100.0                   52000.0   \n48              Sociology                 36500.0                   58200.0   \n49                Spanish                 34000.0                   53100.0   \n50  Source: PayScale Inc.                     NaN                       NaN   \n\n    Mid-Career 10th Percentile Salary  Mid-Career 90th Percentile Salary Group  \n46                            31600.0                           127000.0  HASS  \n47                            29700.0                            96400.0  HASS  \n48                            30700.0                           118000.0  HASS  \n49                            31000.0                            96400.0  HASS  \n50                                NaN                                NaN   NaN  ",
      "text/html": "<div>\n<style scoped>\n    .dataframe tbody tr th:only-of-type {\n        vertical-align: middle;\n    }\n\n    .dataframe tbody tr th {\n        vertical-align: top;\n    }\n\n    .dataframe thead th {\n        text-align: right;\n    }\n</style>\n<table border=\"1\" class=\"dataframe\">\n  <thead>\n    <tr style=\"text-align: right;\">\n      <th></th>\n      <th>Undergraduate Major</th>\n      <th>Starting Median Salary</th>\n      <th>Mid-Career Median Salary</th>\n      <th>Mid-Career 10th Percentile Salary</th>\n      <th>Mid-Career 90th Percentile Salary</th>\n      <th>Group</th>\n    </tr>\n  </thead>\n  <tbody>\n    <tr>\n      <th>46</th>\n      <td>Psychology</td>\n      <td>35900.0</td>\n      <td>60400.0</td>\n      <td>31600.0</td>\n      <td>127000.0</td>\n      <td>HASS</td>\n    </tr>\n    <tr>\n      <th>47</th>\n      <td>Religion</td>\n      <td>34100.0</td>\n      <td>52000.0</td>\n      <td>29700.0</td>\n      <td>96400.0</td>\n      <td>HASS</td>\n    </tr>\n    <tr>\n      <th>48</th>\n      <td>Sociology</td>\n      <td>36500.0</td>\n      <td>58200.0</td>\n      <td>30700.0</td>\n      <td>118000.0</td>\n      <td>HASS</td>\n    </tr>\n    <tr>\n      <th>49</th>\n      <td>Spanish</td>\n      <td>34000.0</td>\n      <td>53100.0</td>\n      <td>31000.0</td>\n      <td>96400.0</td>\n      <td>HASS</td>\n    </tr>\n    <tr>\n      <th>50</th>\n      <td>Source: PayScale Inc.</td>\n      <td>NaN</td>\n      <td>NaN</td>\n      <td>NaN</td>\n      <td>NaN</td>\n      <td>NaN</td>\n    </tr>\n  </tbody>\n</table>\n</div>"
     },
     "execution_count": 14,
     "metadata": {},
     "output_type": "execute_result"
    }
   ],
   "source": [
    "df.tail()"
   ],
   "metadata": {
    "collapsed": false,
    "ExecuteTime": {
     "end_time": "2024-01-20T15:47:23.541568Z",
     "start_time": "2024-01-20T15:47:23.530432Z"
    }
   },
   "id": "7c809de6323a45dd"
  },
  {
   "cell_type": "markdown",
   "source": [
    "**Delete the rows with missing values:\n",
    "The last row has missing info**"
   ],
   "metadata": {
    "collapsed": false
   },
   "id": "ceb24b8dfedd8e6"
  },
  {
   "cell_type": "code",
   "execution_count": 18,
   "outputs": [
    {
     "data": {
      "text/plain": "   Undergraduate Major  Starting Median Salary  Mid-Career Median Salary  \\\n45   Political Science                 40800.0                   78200.0   \n46          Psychology                 35900.0                   60400.0   \n47            Religion                 34100.0                   52000.0   \n48           Sociology                 36500.0                   58200.0   \n49             Spanish                 34000.0                   53100.0   \n\n    Mid-Career 10th Percentile Salary  Mid-Career 90th Percentile Salary Group  \n45                            41200.0                           168000.0  HASS  \n46                            31600.0                           127000.0  HASS  \n47                            29700.0                            96400.0  HASS  \n48                            30700.0                           118000.0  HASS  \n49                            31000.0                            96400.0  HASS  ",
      "text/html": "<div>\n<style scoped>\n    .dataframe tbody tr th:only-of-type {\n        vertical-align: middle;\n    }\n\n    .dataframe tbody tr th {\n        vertical-align: top;\n    }\n\n    .dataframe thead th {\n        text-align: right;\n    }\n</style>\n<table border=\"1\" class=\"dataframe\">\n  <thead>\n    <tr style=\"text-align: right;\">\n      <th></th>\n      <th>Undergraduate Major</th>\n      <th>Starting Median Salary</th>\n      <th>Mid-Career Median Salary</th>\n      <th>Mid-Career 10th Percentile Salary</th>\n      <th>Mid-Career 90th Percentile Salary</th>\n      <th>Group</th>\n    </tr>\n  </thead>\n  <tbody>\n    <tr>\n      <th>45</th>\n      <td>Political Science</td>\n      <td>40800.0</td>\n      <td>78200.0</td>\n      <td>41200.0</td>\n      <td>168000.0</td>\n      <td>HASS</td>\n    </tr>\n    <tr>\n      <th>46</th>\n      <td>Psychology</td>\n      <td>35900.0</td>\n      <td>60400.0</td>\n      <td>31600.0</td>\n      <td>127000.0</td>\n      <td>HASS</td>\n    </tr>\n    <tr>\n      <th>47</th>\n      <td>Religion</td>\n      <td>34100.0</td>\n      <td>52000.0</td>\n      <td>29700.0</td>\n      <td>96400.0</td>\n      <td>HASS</td>\n    </tr>\n    <tr>\n      <th>48</th>\n      <td>Sociology</td>\n      <td>36500.0</td>\n      <td>58200.0</td>\n      <td>30700.0</td>\n      <td>118000.0</td>\n      <td>HASS</td>\n    </tr>\n    <tr>\n      <th>49</th>\n      <td>Spanish</td>\n      <td>34000.0</td>\n      <td>53100.0</td>\n      <td>31000.0</td>\n      <td>96400.0</td>\n      <td>HASS</td>\n    </tr>\n  </tbody>\n</table>\n</div>"
     },
     "execution_count": 18,
     "metadata": {},
     "output_type": "execute_result"
    }
   ],
   "source": [
    "clean_df = df.dropna()\n",
    "clean_df.tail()"
   ],
   "metadata": {
    "collapsed": false,
    "ExecuteTime": {
     "end_time": "2024-01-20T15:54:47.834223Z",
     "start_time": "2024-01-20T15:54:47.830624Z"
    }
   },
   "id": "e8d57650524eaeed"
  },
  {
   "cell_type": "markdown",
   "source": [
    "**Access a particular column from a data frame**"
   ],
   "metadata": {
    "collapsed": false
   },
   "id": "e21a27834b44d238"
  },
  {
   "cell_type": "code",
   "execution_count": 19,
   "outputs": [
    {
     "data": {
      "text/plain": "0     46000.0\n1     57700.0\n2     42600.0\n3     36800.0\n4     41600.0\n5     35800.0\n6     38800.0\n7     43000.0\n8     63200.0\n9     42600.0\n10    53900.0\n11    38100.0\n12    61400.0\n13    55900.0\n14    53700.0\n15    35000.0\n16    35900.0\n17    50100.0\n18    34900.0\n19    60900.0\n20    38000.0\n21    37900.0\n22    47900.0\n23    39100.0\n24    41200.0\n25    43500.0\n26    35700.0\n27    38800.0\n28    39200.0\n29    37800.0\n30    57700.0\n31    49100.0\n32    36100.0\n33    40900.0\n34    35600.0\n35    49200.0\n36    40800.0\n37    45400.0\n38    57900.0\n39    35900.0\n40    54200.0\n41    39900.0\n42    39900.0\n43    74300.0\n44    50300.0\n45    40800.0\n46    35900.0\n47    34100.0\n48    36500.0\n49    34000.0\nName: Starting Median Salary, dtype: float64"
     },
     "execution_count": 19,
     "metadata": {},
     "output_type": "execute_result"
    }
   ],
   "source": [
    "clean_df['Starting Median Salary']"
   ],
   "metadata": {
    "collapsed": false,
    "ExecuteTime": {
     "end_time": "2024-01-20T15:55:33.486895Z",
     "start_time": "2024-01-20T15:55:33.481424Z"
    }
   },
   "id": "d141467d646b16c0"
  },
  {
   "cell_type": "markdown",
   "source": [
    "**To find the highest starting salary we can simply chain the .max() method:**"
   ],
   "metadata": {
    "collapsed": false
   },
   "id": "86e7bc1779b346a8"
  },
  {
   "cell_type": "code",
   "execution_count": 20,
   "outputs": [
    {
     "data": {
      "text/plain": "74300.0"
     },
     "execution_count": 20,
     "metadata": {},
     "output_type": "execute_result"
    }
   ],
   "source": [
    "clean_df['Starting Median Salary'].max()"
   ],
   "metadata": {
    "collapsed": false,
    "ExecuteTime": {
     "end_time": "2024-01-20T15:56:32.122189Z",
     "start_time": "2024-01-20T15:56:32.114817Z"
    }
   },
   "id": "12dcf4eb0d9cb405"
  },
  {
   "cell_type": "code",
   "execution_count": 21,
   "outputs": [
    {
     "data": {
      "text/plain": "<bound method Series.max of 0     46000.0\n1     57700.0\n2     42600.0\n3     36800.0\n4     41600.0\n5     35800.0\n6     38800.0\n7     43000.0\n8     63200.0\n9     42600.0\n10    53900.0\n11    38100.0\n12    61400.0\n13    55900.0\n14    53700.0\n15    35000.0\n16    35900.0\n17    50100.0\n18    34900.0\n19    60900.0\n20    38000.0\n21    37900.0\n22    47900.0\n23    39100.0\n24    41200.0\n25    43500.0\n26    35700.0\n27    38800.0\n28    39200.0\n29    37800.0\n30    57700.0\n31    49100.0\n32    36100.0\n33    40900.0\n34    35600.0\n35    49200.0\n36    40800.0\n37    45400.0\n38    57900.0\n39    35900.0\n40    54200.0\n41    39900.0\n42    39900.0\n43    74300.0\n44    50300.0\n45    40800.0\n46    35900.0\n47    34100.0\n48    36500.0\n49    34000.0\nName: Starting Median Salary, dtype: float64>"
     },
     "execution_count": 21,
     "metadata": {},
     "output_type": "execute_result"
    }
   ],
   "source": [
    "clean_df['Starting Median Salary'].max"
   ],
   "metadata": {
    "collapsed": false,
    "ExecuteTime": {
     "end_time": "2024-01-20T15:56:36.734801Z",
     "start_time": "2024-01-20T15:56:36.727810Z"
    }
   },
   "id": "66e7334a419260e2"
  },
  {
   "cell_type": "markdown",
   "source": [
    "**The highest starting salary is $74,300. But which college major earns this much on average? For this, we need to know the row number or index so that we can look up the name of the major. Lucky for us, the .idxmax() method will give us index for the row with the largest value:**"
   ],
   "metadata": {
    "collapsed": false
   },
   "id": "4bf995e37cf8c519"
  },
  {
   "cell_type": "code",
   "execution_count": 22,
   "outputs": [
    {
     "data": {
      "text/plain": "43"
     },
     "execution_count": 22,
     "metadata": {},
     "output_type": "execute_result"
    }
   ],
   "source": [
    "clean_df['Starting Median Salary'].idxmax()"
   ],
   "metadata": {
    "collapsed": false,
    "ExecuteTime": {
     "end_time": "2024-01-20T15:58:03.277633Z",
     "start_time": "2024-01-20T15:58:03.269340Z"
    }
   },
   "id": "a6cda7056787b527"
  },
  {
   "cell_type": "markdown",
   "source": [
    "**To see the name of the major that corresponds to that particular row, we can use the .loc (location) property:**"
   ],
   "metadata": {
    "collapsed": false
   },
   "id": "4a17532fbf111b57"
  },
  {
   "cell_type": "code",
   "execution_count": 23,
   "outputs": [
    {
     "data": {
      "text/plain": "'Physician Assistant'"
     },
     "execution_count": 23,
     "metadata": {},
     "output_type": "execute_result"
    }
   ],
   "source": [
    "clean_df['Undergraduate Major'].loc[43]"
   ],
   "metadata": {
    "collapsed": false,
    "ExecuteTime": {
     "end_time": "2024-01-20T15:58:48.667360Z",
     "start_time": "2024-01-20T15:58:48.661166Z"
    }
   },
   "id": "5db45925db916bd6"
  },
  {
   "cell_type": "markdown",
   "source": [
    "**Here we are selecting both a column ('Undergraduate Major') and a row at index 43, so we are retrieving the value of a particular cell:**"
   ],
   "metadata": {
    "collapsed": false
   },
   "id": "6421cee2fab4d599"
  },
  {
   "cell_type": "code",
   "execution_count": 24,
   "outputs": [
    {
     "data": {
      "text/plain": "'Physician Assistant'"
     },
     "execution_count": 24,
     "metadata": {},
     "output_type": "execute_result"
    }
   ],
   "source": [
    "clean_df['Undergraduate Major'][43]"
   ],
   "metadata": {
    "collapsed": false,
    "ExecuteTime": {
     "end_time": "2024-01-20T16:00:00.785222Z",
     "start_time": "2024-01-20T16:00:00.775341Z"
    }
   },
   "id": "c5e69c5498d9139f"
  },
  {
   "cell_type": "markdown",
   "source": [
    "**If you don't specify a particular column you can use the .loc property to retrieve an entire row:**\n"
   ],
   "metadata": {
    "collapsed": false
   },
   "id": "45d707be9006832d"
  },
  {
   "cell_type": "code",
   "execution_count": 26,
   "outputs": [
    {
     "data": {
      "text/plain": "Undergraduate Major                  Physician Assistant\nStarting Median Salary                           74300.0\nMid-Career Median Salary                         91700.0\nMid-Career 10th Percentile Salary                66400.0\nMid-Career 90th Percentile Salary               124000.0\nGroup                                               STEM\nName: 43, dtype: object"
     },
     "execution_count": 26,
     "metadata": {},
     "output_type": "execute_result"
    }
   ],
   "source": [
    "clean_df.loc[43]"
   ],
   "metadata": {
    "collapsed": false,
    "ExecuteTime": {
     "end_time": "2024-01-20T16:01:53.252033Z",
     "start_time": "2024-01-20T16:01:53.245054Z"
    }
   },
   "id": "7778e0ab673bc64f"
  },
  {
   "cell_type": "markdown",
   "source": [
    "**What college major has the highest mid-career salary? \n",
    "How much do graduates with this major earn?**"
   ],
   "metadata": {
    "collapsed": false
   },
   "id": "8d62dc2652751c24"
  },
  {
   "cell_type": "code",
   "execution_count": 33,
   "outputs": [
    {
     "data": {
      "text/plain": "0      77100.0\n1     101000.0\n2      71900.0\n3      61500.0\n4      76800.0\n5      64900.0\n6      64800.0\n7      72100.0\n8     107000.0\n9      79900.0\n10     90500.0\n11     70000.0\n12    105000.0\n13     95500.0\n14     88900.0\n15     56300.0\n16     56900.0\n17     98600.0\n18     52000.0\n19    103000.0\n20     64700.0\n21     68500.0\n22     88300.0\n23     62600.0\n24     65500.0\n25     79500.0\n26     59800.0\n27     60600.0\n28     71000.0\n29     57500.0\n30     94700.0\n31     74800.0\n32     53200.0\n33     80900.0\n34     66700.0\n35     82300.0\n36     79600.0\n37     92400.0\n38     93600.0\n39     55000.0\n40     67000.0\n41     55300.0\n42     81200.0\n43     91700.0\n44     97300.0\n45     78200.0\n46     60400.0\n47     52000.0\n48     58200.0\n49     53100.0\nName: Mid-Career Median Salary, dtype: float64"
     },
     "execution_count": 33,
     "metadata": {},
     "output_type": "execute_result"
    }
   ],
   "source": [
    "clean_df[\"Mid-Career Median Salary\"]"
   ],
   "metadata": {
    "collapsed": false,
    "ExecuteTime": {
     "end_time": "2024-01-20T16:11:31.198730Z",
     "start_time": "2024-01-20T16:11:31.188282Z"
    }
   },
   "id": "b230ed8f76857eba"
  },
  {
   "cell_type": "code",
   "execution_count": 28,
   "outputs": [
    {
     "data": {
      "text/plain": "107000.0"
     },
     "execution_count": 28,
     "metadata": {},
     "output_type": "execute_result"
    }
   ],
   "source": [
    "clean_df[\"Mid-Career Median Salary\"].max()"
   ],
   "metadata": {
    "collapsed": false,
    "ExecuteTime": {
     "end_time": "2024-01-20T16:07:20.948145Z",
     "start_time": "2024-01-20T16:07:20.940160Z"
    }
   },
   "id": "538e7618c02d77fb"
  },
  {
   "cell_type": "code",
   "execution_count": 29,
   "outputs": [
    {
     "data": {
      "text/plain": "8"
     },
     "execution_count": 29,
     "metadata": {},
     "output_type": "execute_result"
    }
   ],
   "source": [
    "clean_df[\"Mid-Career Median Salary\"].idxmax()"
   ],
   "metadata": {
    "collapsed": false,
    "ExecuteTime": {
     "end_time": "2024-01-20T16:07:38.387147Z",
     "start_time": "2024-01-20T16:07:38.377543Z"
    }
   },
   "id": "c8d9e9c3dd3c8eb2"
  },
  {
   "cell_type": "code",
   "execution_count": 34,
   "outputs": [
    {
     "data": {
      "text/plain": "'Chemical Engineering'"
     },
     "execution_count": 34,
     "metadata": {},
     "output_type": "execute_result"
    }
   ],
   "source": [
    "clean_df['Undergraduate Major'].loc[8]"
   ],
   "metadata": {
    "collapsed": false,
    "ExecuteTime": {
     "end_time": "2024-01-20T16:12:23.757412Z",
     "start_time": "2024-01-20T16:12:23.747450Z"
    }
   },
   "id": "f96098711e48e291"
  },
  {
   "cell_type": "code",
   "execution_count": 35,
   "outputs": [
    {
     "data": {
      "text/plain": "'Chemical Engineering'"
     },
     "execution_count": 35,
     "metadata": {},
     "output_type": "execute_result"
    }
   ],
   "source": [
    "clean_df['Undergraduate Major'][8]"
   ],
   "metadata": {
    "collapsed": false,
    "ExecuteTime": {
     "end_time": "2024-01-20T16:12:31.193506Z",
     "start_time": "2024-01-20T16:12:31.185673Z"
    }
   },
   "id": "41acb48e55d5e3fa"
  },
  {
   "cell_type": "markdown",
   "source": [
    "**Which college major has the lowest starting salary and how much do graduates earn after university?**"
   ],
   "metadata": {
    "collapsed": false
   },
   "id": "fe34370be187165d"
  },
  {
   "cell_type": "code",
   "execution_count": 36,
   "outputs": [
    {
     "data": {
      "text/plain": "     Undergraduate Major  Starting Median Salary  Mid-Career Median Salary  \\\n0             Accounting                 46000.0                   77100.0   \n1  Aerospace Engineering                 57700.0                  101000.0   \n2            Agriculture                 42600.0                   71900.0   \n3           Anthropology                 36800.0                   61500.0   \n4           Architecture                 41600.0                   76800.0   \n\n   Mid-Career 10th Percentile Salary  Mid-Career 90th Percentile Salary  \\\n0                            42200.0                           152000.0   \n1                            64300.0                           161000.0   \n2                            36300.0                           150000.0   \n3                            33800.0                           138000.0   \n4                            50600.0                           136000.0   \n\n      Group  \n0  Business  \n1      STEM  \n2  Business  \n3      HASS  \n4  Business  ",
      "text/html": "<div>\n<style scoped>\n    .dataframe tbody tr th:only-of-type {\n        vertical-align: middle;\n    }\n\n    .dataframe tbody tr th {\n        vertical-align: top;\n    }\n\n    .dataframe thead th {\n        text-align: right;\n    }\n</style>\n<table border=\"1\" class=\"dataframe\">\n  <thead>\n    <tr style=\"text-align: right;\">\n      <th></th>\n      <th>Undergraduate Major</th>\n      <th>Starting Median Salary</th>\n      <th>Mid-Career Median Salary</th>\n      <th>Mid-Career 10th Percentile Salary</th>\n      <th>Mid-Career 90th Percentile Salary</th>\n      <th>Group</th>\n    </tr>\n  </thead>\n  <tbody>\n    <tr>\n      <th>0</th>\n      <td>Accounting</td>\n      <td>46000.0</td>\n      <td>77100.0</td>\n      <td>42200.0</td>\n      <td>152000.0</td>\n      <td>Business</td>\n    </tr>\n    <tr>\n      <th>1</th>\n      <td>Aerospace Engineering</td>\n      <td>57700.0</td>\n      <td>101000.0</td>\n      <td>64300.0</td>\n      <td>161000.0</td>\n      <td>STEM</td>\n    </tr>\n    <tr>\n      <th>2</th>\n      <td>Agriculture</td>\n      <td>42600.0</td>\n      <td>71900.0</td>\n      <td>36300.0</td>\n      <td>150000.0</td>\n      <td>Business</td>\n    </tr>\n    <tr>\n      <th>3</th>\n      <td>Anthropology</td>\n      <td>36800.0</td>\n      <td>61500.0</td>\n      <td>33800.0</td>\n      <td>138000.0</td>\n      <td>HASS</td>\n    </tr>\n    <tr>\n      <th>4</th>\n      <td>Architecture</td>\n      <td>41600.0</td>\n      <td>76800.0</td>\n      <td>50600.0</td>\n      <td>136000.0</td>\n      <td>Business</td>\n    </tr>\n  </tbody>\n</table>\n</div>"
     },
     "execution_count": 36,
     "metadata": {},
     "output_type": "execute_result"
    }
   ],
   "source": [
    "df.head()"
   ],
   "metadata": {
    "collapsed": false,
    "ExecuteTime": {
     "end_time": "2024-01-20T16:17:09.892698Z",
     "start_time": "2024-01-20T16:17:09.876433Z"
    }
   },
   "id": "84df76bcfc94c1ed"
  },
  {
   "cell_type": "code",
   "execution_count": 41,
   "outputs": [
    {
     "data": {
      "text/plain": "34000.0"
     },
     "execution_count": 41,
     "metadata": {},
     "output_type": "execute_result"
    }
   ],
   "source": [
    "clean_df[\"Starting Median Salary\"].min()"
   ],
   "metadata": {
    "collapsed": false,
    "ExecuteTime": {
     "end_time": "2024-01-20T16:19:51.641181Z",
     "start_time": "2024-01-20T16:19:51.627718Z"
    }
   },
   "id": "de94a87dcd324e26"
  },
  {
   "cell_type": "code",
   "execution_count": 42,
   "outputs": [
    {
     "data": {
      "text/plain": "49"
     },
     "execution_count": 42,
     "metadata": {},
     "output_type": "execute_result"
    }
   ],
   "source": [
    "clean_df[\"Starting Median Salary\"].idxmin()"
   ],
   "metadata": {
    "collapsed": false,
    "ExecuteTime": {
     "end_time": "2024-01-20T16:19:53.020844Z",
     "start_time": "2024-01-20T16:19:53.018209Z"
    }
   },
   "id": "a2480488b748b248"
  },
  {
   "cell_type": "code",
   "execution_count": 43,
   "outputs": [
    {
     "data": {
      "text/plain": "'Spanish'"
     },
     "execution_count": 43,
     "metadata": {},
     "output_type": "execute_result"
    }
   ],
   "source": [
    "clean_df[\"Undergraduate Major\"][49]"
   ],
   "metadata": {
    "collapsed": false,
    "ExecuteTime": {
     "end_time": "2024-01-20T16:19:57.347921Z",
     "start_time": "2024-01-20T16:19:57.338021Z"
    }
   },
   "id": "526195b34c700567"
  },
  {
   "cell_type": "code",
   "execution_count": 45,
   "outputs": [
    {
     "data": {
      "text/plain": "Undergraduate Major                  Spanish\nStarting Median Salary               34000.0\nMid-Career Median Salary             53100.0\nMid-Career 10th Percentile Salary    31000.0\nMid-Career 90th Percentile Salary    96400.0\nGroup                                   HASS\nName: 49, dtype: object"
     },
     "execution_count": 45,
     "metadata": {},
     "output_type": "execute_result"
    }
   ],
   "source": [
    "clean_df.loc[49]"
   ],
   "metadata": {
    "collapsed": false,
    "ExecuteTime": {
     "end_time": "2024-01-20T16:21:39.553377Z",
     "start_time": "2024-01-20T16:21:39.545049Z"
    }
   },
   "id": "601ba55911deba86"
  },
  {
   "cell_type": "markdown",
   "source": [
    "**Lowest Risk Majors\n",
    "A low-risk major is a degree where there is a small difference between the lowest and highest salaries. In other words, if the difference between the 10th percentile and the 90th percentile earnings of your major is small, then you can be more certain about your salary after you graduate.\n",
    "How would we calculate the difference between the earnings of the 10th and 90th percentile? Well, Pandas allows us to do simple arithmetic with entire columns, so all we need to do is take the difference between the two columns:**"
   ],
   "metadata": {
    "collapsed": false
   },
   "id": "731cc5d37930a10c"
  },
  {
   "cell_type": "markdown",
   "source": [
    "**You can also use the .subtract() method.**"
   ],
   "metadata": {
    "collapsed": false
   },
   "id": "cf94408024266b0e"
  },
  {
   "cell_type": "code",
   "execution_count": 46,
   "outputs": [
    {
     "data": {
      "text/plain": "     Undergraduate Major  Starting Median Salary  Mid-Career Median Salary  \\\n0             Accounting                 46000.0                   77100.0   \n1  Aerospace Engineering                 57700.0                  101000.0   \n2            Agriculture                 42600.0                   71900.0   \n3           Anthropology                 36800.0                   61500.0   \n4           Architecture                 41600.0                   76800.0   \n\n   Mid-Career 10th Percentile Salary  Mid-Career 90th Percentile Salary  \\\n0                            42200.0                           152000.0   \n1                            64300.0                           161000.0   \n2                            36300.0                           150000.0   \n3                            33800.0                           138000.0   \n4                            50600.0                           136000.0   \n\n      Group  \n0  Business  \n1      STEM  \n2  Business  \n3      HASS  \n4  Business  ",
      "text/html": "<div>\n<style scoped>\n    .dataframe tbody tr th:only-of-type {\n        vertical-align: middle;\n    }\n\n    .dataframe tbody tr th {\n        vertical-align: top;\n    }\n\n    .dataframe thead th {\n        text-align: right;\n    }\n</style>\n<table border=\"1\" class=\"dataframe\">\n  <thead>\n    <tr style=\"text-align: right;\">\n      <th></th>\n      <th>Undergraduate Major</th>\n      <th>Starting Median Salary</th>\n      <th>Mid-Career Median Salary</th>\n      <th>Mid-Career 10th Percentile Salary</th>\n      <th>Mid-Career 90th Percentile Salary</th>\n      <th>Group</th>\n    </tr>\n  </thead>\n  <tbody>\n    <tr>\n      <th>0</th>\n      <td>Accounting</td>\n      <td>46000.0</td>\n      <td>77100.0</td>\n      <td>42200.0</td>\n      <td>152000.0</td>\n      <td>Business</td>\n    </tr>\n    <tr>\n      <th>1</th>\n      <td>Aerospace Engineering</td>\n      <td>57700.0</td>\n      <td>101000.0</td>\n      <td>64300.0</td>\n      <td>161000.0</td>\n      <td>STEM</td>\n    </tr>\n    <tr>\n      <th>2</th>\n      <td>Agriculture</td>\n      <td>42600.0</td>\n      <td>71900.0</td>\n      <td>36300.0</td>\n      <td>150000.0</td>\n      <td>Business</td>\n    </tr>\n    <tr>\n      <th>3</th>\n      <td>Anthropology</td>\n      <td>36800.0</td>\n      <td>61500.0</td>\n      <td>33800.0</td>\n      <td>138000.0</td>\n      <td>HASS</td>\n    </tr>\n    <tr>\n      <th>4</th>\n      <td>Architecture</td>\n      <td>41600.0</td>\n      <td>76800.0</td>\n      <td>50600.0</td>\n      <td>136000.0</td>\n      <td>Business</td>\n    </tr>\n  </tbody>\n</table>\n</div>"
     },
     "execution_count": 46,
     "metadata": {},
     "output_type": "execute_result"
    }
   ],
   "source": [
    "clean_df.head()"
   ],
   "metadata": {
    "collapsed": false,
    "ExecuteTime": {
     "end_time": "2024-01-20T16:59:47.031101Z",
     "start_time": "2024-01-20T16:59:47.014724Z"
    }
   },
   "id": "1e43d8bcff68c600"
  },
  {
   "cell_type": "code",
   "execution_count": 47,
   "outputs": [
    {
     "data": {
      "text/plain": "0     109800.0\n1      96700.0\n2     113700.0\n3     104200.0\n4      85400.0\n5      96200.0\n6      98100.0\n7     108200.0\n8     122100.0\n9     102700.0\n10     84600.0\n11    105500.0\n12     95900.0\n13     98000.0\n14    114700.0\n15     74800.0\n16    116300.0\n17    159400.0\n18     72700.0\n19     98700.0\n20     99600.0\n21    102100.0\n22    147800.0\n23     70000.0\n24     92000.0\n25    111000.0\n26     76000.0\n27     66400.0\n28    112000.0\n29     88500.0\n30    115900.0\n31     84500.0\n32     71300.0\n33    118800.0\n34    106600.0\n35    100700.0\n36    132900.0\n37    137800.0\n38     99300.0\n39    107300.0\n40     50700.0\n41     65300.0\n42    132500.0\n43     57600.0\n44    122000.0\n45    126800.0\n46     95400.0\n47     66700.0\n48     87300.0\n49     65400.0\ndtype: float64"
     },
     "execution_count": 47,
     "metadata": {},
     "output_type": "execute_result"
    }
   ],
   "source": [
    "clean_df['Mid-Career 90th Percentile Salary'] - clean_df['Mid-Career 10th Percentile Salary']\n",
    "#OR  clean_df['Mid-Career 90th Percentile Salary'].subtract(clean_df['Mid-Career 10th Percentile Salary'])"
   ],
   "metadata": {
    "collapsed": false,
    "ExecuteTime": {
     "end_time": "2024-01-20T17:00:10.744241Z",
     "start_time": "2024-01-20T17:00:10.727315Z"
    }
   },
   "id": "f3a0a64ecbd58b09"
  },
  {
   "cell_type": "code",
   "execution_count": 48,
   "outputs": [
    {
     "data": {
      "text/plain": "0     109800.0\n1      96700.0\n2     113700.0\n3     104200.0\n4      85400.0\n5      96200.0\n6      98100.0\n7     108200.0\n8     122100.0\n9     102700.0\n10     84600.0\n11    105500.0\n12     95900.0\n13     98000.0\n14    114700.0\n15     74800.0\n16    116300.0\n17    159400.0\n18     72700.0\n19     98700.0\n20     99600.0\n21    102100.0\n22    147800.0\n23     70000.0\n24     92000.0\n25    111000.0\n26     76000.0\n27     66400.0\n28    112000.0\n29     88500.0\n30    115900.0\n31     84500.0\n32     71300.0\n33    118800.0\n34    106600.0\n35    100700.0\n36    132900.0\n37    137800.0\n38     99300.0\n39    107300.0\n40     50700.0\n41     65300.0\n42    132500.0\n43     57600.0\n44    122000.0\n45    126800.0\n46     95400.0\n47     66700.0\n48     87300.0\n49     65400.0\ndtype: float64"
     },
     "execution_count": 48,
     "metadata": {},
     "output_type": "execute_result"
    }
   ],
   "source": [
    "clean_df['Mid-Career 90th Percentile Salary'].subtract(clean_df['Mid-Career 10th Percentile Salary'])"
   ],
   "metadata": {
    "collapsed": false,
    "ExecuteTime": {
     "end_time": "2024-01-20T17:01:07.977686Z",
     "start_time": "2024-01-20T17:01:07.956669Z"
    }
   },
   "id": "294f7053966e22a9"
  },
  {
   "cell_type": "markdown",
   "source": [
    "**The output of this computation will be another Pandas dataframe column. We can add this to our existing dataframe with the .insert() method:**"
   ],
   "metadata": {
    "collapsed": false
   },
   "id": "b3e56d9c469b7530"
  },
  {
   "cell_type": "code",
   "execution_count": 49,
   "outputs": [],
   "source": [
    "spread_col = clean_df['Mid-Career 90th Percentile Salary'] - clean_df['Mid-Career 10th Percentile Salary']\n",
    "clean_df.insert(1, \"Spread\", spread_col) #The first argument is the position of where the column should be inserted. In our case, it's at position 1, so the second column"
   ],
   "metadata": {
    "collapsed": false,
    "ExecuteTime": {
     "end_time": "2024-01-20T17:03:19.303786Z",
     "start_time": "2024-01-20T17:03:19.281753Z"
    }
   },
   "id": "7edb676d2930b8da"
  },
  {
   "cell_type": "code",
   "execution_count": 50,
   "outputs": [
    {
     "data": {
      "text/plain": "     Undergraduate Major    Spread  Starting Median Salary  \\\n0             Accounting  109800.0                 46000.0   \n1  Aerospace Engineering   96700.0                 57700.0   \n2            Agriculture  113700.0                 42600.0   \n3           Anthropology  104200.0                 36800.0   \n4           Architecture   85400.0                 41600.0   \n\n   Mid-Career Median Salary  Mid-Career 10th Percentile Salary  \\\n0                   77100.0                            42200.0   \n1                  101000.0                            64300.0   \n2                   71900.0                            36300.0   \n3                   61500.0                            33800.0   \n4                   76800.0                            50600.0   \n\n   Mid-Career 90th Percentile Salary     Group  \n0                           152000.0  Business  \n1                           161000.0      STEM  \n2                           150000.0  Business  \n3                           138000.0      HASS  \n4                           136000.0  Business  ",
      "text/html": "<div>\n<style scoped>\n    .dataframe tbody tr th:only-of-type {\n        vertical-align: middle;\n    }\n\n    .dataframe tbody tr th {\n        vertical-align: top;\n    }\n\n    .dataframe thead th {\n        text-align: right;\n    }\n</style>\n<table border=\"1\" class=\"dataframe\">\n  <thead>\n    <tr style=\"text-align: right;\">\n      <th></th>\n      <th>Undergraduate Major</th>\n      <th>Spread</th>\n      <th>Starting Median Salary</th>\n      <th>Mid-Career Median Salary</th>\n      <th>Mid-Career 10th Percentile Salary</th>\n      <th>Mid-Career 90th Percentile Salary</th>\n      <th>Group</th>\n    </tr>\n  </thead>\n  <tbody>\n    <tr>\n      <th>0</th>\n      <td>Accounting</td>\n      <td>109800.0</td>\n      <td>46000.0</td>\n      <td>77100.0</td>\n      <td>42200.0</td>\n      <td>152000.0</td>\n      <td>Business</td>\n    </tr>\n    <tr>\n      <th>1</th>\n      <td>Aerospace Engineering</td>\n      <td>96700.0</td>\n      <td>57700.0</td>\n      <td>101000.0</td>\n      <td>64300.0</td>\n      <td>161000.0</td>\n      <td>STEM</td>\n    </tr>\n    <tr>\n      <th>2</th>\n      <td>Agriculture</td>\n      <td>113700.0</td>\n      <td>42600.0</td>\n      <td>71900.0</td>\n      <td>36300.0</td>\n      <td>150000.0</td>\n      <td>Business</td>\n    </tr>\n    <tr>\n      <th>3</th>\n      <td>Anthropology</td>\n      <td>104200.0</td>\n      <td>36800.0</td>\n      <td>61500.0</td>\n      <td>33800.0</td>\n      <td>138000.0</td>\n      <td>HASS</td>\n    </tr>\n    <tr>\n      <th>4</th>\n      <td>Architecture</td>\n      <td>85400.0</td>\n      <td>41600.0</td>\n      <td>76800.0</td>\n      <td>50600.0</td>\n      <td>136000.0</td>\n      <td>Business</td>\n    </tr>\n  </tbody>\n</table>\n</div>"
     },
     "execution_count": 50,
     "metadata": {},
     "output_type": "execute_result"
    }
   ],
   "source": [
    "clean_df.head()"
   ],
   "metadata": {
    "collapsed": false,
    "ExecuteTime": {
     "end_time": "2024-01-20T17:03:28.466539Z",
     "start_time": "2024-01-20T17:03:28.448840Z"
    }
   },
   "id": "2e7f0df16f1d332a"
  },
  {
   "cell_type": "markdown",
   "source": [
    "**Sorting by the Lowest Spread:\n",
    "To see which degrees have the smallest spread, we can use the .sort_values() method.\n",
    "And since we are interested in only seeing the name of the degree and the major, we can pass a list of these two column names to look at the .head() of these two columns exclusively.**"
   ],
   "metadata": {
    "collapsed": false
   },
   "id": "9bb127b1051ace77"
  },
  {
   "cell_type": "code",
   "execution_count": 62,
   "outputs": [],
   "source": [
    "low_risk = clean_df.sort_values('Spread')\n",
    "# low_risk = clean_df.sort_values('Spread', ascending=False) GIVES DESCENDING ORDER"
   ],
   "metadata": {
    "collapsed": false,
    "ExecuteTime": {
     "end_time": "2024-01-20T17:07:41.574250Z",
     "start_time": "2024-01-20T17:07:41.562857Z"
    }
   },
   "id": "a19fcd9f04c88348"
  },
  {
   "cell_type": "code",
   "execution_count": 63,
   "outputs": [
    {
     "data": {
      "text/plain": "                     Undergraduate Major    Spread  Starting Median Salary  \\\n40                               Nursing   50700.0                 54200.0   \n43                   Physician Assistant   57600.0                 74300.0   \n41                             Nutrition   65300.0                 39900.0   \n49                               Spanish   65400.0                 34000.0   \n27            Health Care Administration   66400.0                 38800.0   \n47                              Religion   66700.0                 34100.0   \n23                              Forestry   70000.0                 39100.0   \n32                       Interior Design   71300.0                 36100.0   \n18                             Education   72700.0                 34900.0   \n15                      Criminal Justice   74800.0                 35000.0   \n26                        Graphic Design   76000.0                 35700.0   \n31           Information Technology (IT)   84500.0                 49100.0   \n10                     Civil Engineering   84600.0                 53900.0   \n4                           Architecture   85400.0                 41600.0   \n48                             Sociology   87300.0                 36500.0   \n29                 Hospitality & Tourism   88500.0                 37800.0   \n24                             Geography   92000.0                 41200.0   \n46                            Psychology   95400.0                 35900.0   \n12                  Computer Engineering   95900.0                 61400.0   \n5                            Art History   96200.0                 35800.0   \n1                  Aerospace Engineering   96700.0                 57700.0   \n13                      Computer Science   98000.0                 55900.0   \n6                                Biology   98100.0                 38800.0   \n19                Electrical Engineering   98700.0                 60900.0   \n38                Mechanical Engineering   99300.0                 57900.0   \n20                               English   99600.0                 38000.0   \n35  Management Information Systems (MIS)  100700.0                 49200.0   \n21                                  Film  102100.0                 37900.0   \n9                              Chemistry  102700.0                 42600.0   \n3                           Anthropology  104200.0                 36800.0   \n11                        Communications  105500.0                 38100.0   \n34                            Journalism  106600.0                 35600.0   \n39                                 Music  107300.0                 35900.0   \n7                    Business Management  108200.0                 43000.0   \n0                             Accounting  109800.0                 46000.0   \n25                               Geology  111000.0                 43500.0   \n28                               History  112000.0                 39200.0   \n2                            Agriculture  113700.0                 42600.0   \n14                          Construction  114700.0                 53700.0   \n30                Industrial Engineering  115900.0                 57700.0   \n16                                 Drama  116300.0                 35900.0   \n33               International Relations  118800.0                 40900.0   \n44                               Physics  122000.0                 50300.0   \n8                   Chemical Engineering  122100.0                 63200.0   \n45                     Political Science  126800.0                 40800.0   \n42                            Philosophy  132500.0                 39900.0   \n36                             Marketing  132900.0                 40800.0   \n37                                  Math  137800.0                 45400.0   \n22                               Finance  147800.0                 47900.0   \n17                             Economics  159400.0                 50100.0   \n\n    Mid-Career Median Salary  Mid-Career 10th Percentile Salary  \\\n40                   67000.0                            47600.0   \n43                   91700.0                            66400.0   \n41                   55300.0                            33900.0   \n49                   53100.0                            31000.0   \n27                   60600.0                            34600.0   \n47                   52000.0                            29700.0   \n23                   62600.0                            41000.0   \n32                   53200.0                            35700.0   \n18                   52000.0                            29300.0   \n15                   56300.0                            32200.0   \n26                   59800.0                            36000.0   \n31                   74800.0                            44500.0   \n10                   90500.0                            63400.0   \n4                    76800.0                            50600.0   \n48                   58200.0                            30700.0   \n29                   57500.0                            35500.0   \n24                   65500.0                            40000.0   \n46                   60400.0                            31600.0   \n12                  105000.0                            66100.0   \n5                    64900.0                            28800.0   \n1                   101000.0                            64300.0   \n13                   95500.0                            56000.0   \n6                    64800.0                            36900.0   \n19                  103000.0                            69300.0   \n38                   93600.0                            63700.0   \n20                   64700.0                            33400.0   \n35                   82300.0                            45300.0   \n21                   68500.0                            33900.0   \n9                    79900.0                            45300.0   \n3                    61500.0                            33800.0   \n11                   70000.0                            37500.0   \n34                   66700.0                            38400.0   \n39                   55000.0                            26700.0   \n7                    72100.0                            38800.0   \n0                    77100.0                            42200.0   \n25                   79500.0                            45000.0   \n28                   71000.0                            37000.0   \n2                    71900.0                            36300.0   \n14                   88900.0                            56300.0   \n30                   94700.0                            57100.0   \n16                   56900.0                            36700.0   \n33                   80900.0                            38200.0   \n44                   97300.0                            56000.0   \n8                   107000.0                            71900.0   \n45                   78200.0                            41200.0   \n42                   81200.0                            35500.0   \n36                   79600.0                            42100.0   \n37                   92400.0                            45200.0   \n22                   88300.0                            47200.0   \n17                   98600.0                            50600.0   \n\n    Mid-Career 90th Percentile Salary     Group  \n40                            98300.0  Business  \n43                           124000.0      STEM  \n41                            99200.0      HASS  \n49                            96400.0      HASS  \n27                           101000.0  Business  \n47                            96400.0      HASS  \n23                           111000.0  Business  \n32                           107000.0      HASS  \n18                           102000.0      HASS  \n15                           107000.0      HASS  \n26                           112000.0      HASS  \n31                           129000.0      STEM  \n10                           148000.0      STEM  \n4                            136000.0  Business  \n48                           118000.0      HASS  \n29                           124000.0  Business  \n24                           132000.0      HASS  \n46                           127000.0      HASS  \n12                           162000.0      STEM  \n5                            125000.0      HASS  \n1                            161000.0      STEM  \n13                           154000.0      STEM  \n6                            135000.0      STEM  \n19                           168000.0      STEM  \n38                           163000.0      STEM  \n20                           133000.0      HASS  \n35                           146000.0      STEM  \n21                           136000.0      HASS  \n9                            148000.0      STEM  \n3                            138000.0      HASS  \n11                           143000.0      HASS  \n34                           145000.0      HASS  \n39                           134000.0      HASS  \n7                            147000.0  Business  \n0                            152000.0  Business  \n25                           156000.0      STEM  \n28                           149000.0      HASS  \n2                            150000.0  Business  \n14                           171000.0  Business  \n30                           173000.0      STEM  \n16                           153000.0      HASS  \n33                           157000.0      HASS  \n44                           178000.0      STEM  \n8                            194000.0      STEM  \n45                           168000.0      HASS  \n42                           168000.0      HASS  \n36                           175000.0  Business  \n37                           183000.0      STEM  \n22                           195000.0  Business  \n17                           210000.0  Business  ",
      "text/html": "<div>\n<style scoped>\n    .dataframe tbody tr th:only-of-type {\n        vertical-align: middle;\n    }\n\n    .dataframe tbody tr th {\n        vertical-align: top;\n    }\n\n    .dataframe thead th {\n        text-align: right;\n    }\n</style>\n<table border=\"1\" class=\"dataframe\">\n  <thead>\n    <tr style=\"text-align: right;\">\n      <th></th>\n      <th>Undergraduate Major</th>\n      <th>Spread</th>\n      <th>Starting Median Salary</th>\n      <th>Mid-Career Median Salary</th>\n      <th>Mid-Career 10th Percentile Salary</th>\n      <th>Mid-Career 90th Percentile Salary</th>\n      <th>Group</th>\n    </tr>\n  </thead>\n  <tbody>\n    <tr>\n      <th>40</th>\n      <td>Nursing</td>\n      <td>50700.0</td>\n      <td>54200.0</td>\n      <td>67000.0</td>\n      <td>47600.0</td>\n      <td>98300.0</td>\n      <td>Business</td>\n    </tr>\n    <tr>\n      <th>43</th>\n      <td>Physician Assistant</td>\n      <td>57600.0</td>\n      <td>74300.0</td>\n      <td>91700.0</td>\n      <td>66400.0</td>\n      <td>124000.0</td>\n      <td>STEM</td>\n    </tr>\n    <tr>\n      <th>41</th>\n      <td>Nutrition</td>\n      <td>65300.0</td>\n      <td>39900.0</td>\n      <td>55300.0</td>\n      <td>33900.0</td>\n      <td>99200.0</td>\n      <td>HASS</td>\n    </tr>\n    <tr>\n      <th>49</th>\n      <td>Spanish</td>\n      <td>65400.0</td>\n      <td>34000.0</td>\n      <td>53100.0</td>\n      <td>31000.0</td>\n      <td>96400.0</td>\n      <td>HASS</td>\n    </tr>\n    <tr>\n      <th>27</th>\n      <td>Health Care Administration</td>\n      <td>66400.0</td>\n      <td>38800.0</td>\n      <td>60600.0</td>\n      <td>34600.0</td>\n      <td>101000.0</td>\n      <td>Business</td>\n    </tr>\n    <tr>\n      <th>47</th>\n      <td>Religion</td>\n      <td>66700.0</td>\n      <td>34100.0</td>\n      <td>52000.0</td>\n      <td>29700.0</td>\n      <td>96400.0</td>\n      <td>HASS</td>\n    </tr>\n    <tr>\n      <th>23</th>\n      <td>Forestry</td>\n      <td>70000.0</td>\n      <td>39100.0</td>\n      <td>62600.0</td>\n      <td>41000.0</td>\n      <td>111000.0</td>\n      <td>Business</td>\n    </tr>\n    <tr>\n      <th>32</th>\n      <td>Interior Design</td>\n      <td>71300.0</td>\n      <td>36100.0</td>\n      <td>53200.0</td>\n      <td>35700.0</td>\n      <td>107000.0</td>\n      <td>HASS</td>\n    </tr>\n    <tr>\n      <th>18</th>\n      <td>Education</td>\n      <td>72700.0</td>\n      <td>34900.0</td>\n      <td>52000.0</td>\n      <td>29300.0</td>\n      <td>102000.0</td>\n      <td>HASS</td>\n    </tr>\n    <tr>\n      <th>15</th>\n      <td>Criminal Justice</td>\n      <td>74800.0</td>\n      <td>35000.0</td>\n      <td>56300.0</td>\n      <td>32200.0</td>\n      <td>107000.0</td>\n      <td>HASS</td>\n    </tr>\n    <tr>\n      <th>26</th>\n      <td>Graphic Design</td>\n      <td>76000.0</td>\n      <td>35700.0</td>\n      <td>59800.0</td>\n      <td>36000.0</td>\n      <td>112000.0</td>\n      <td>HASS</td>\n    </tr>\n    <tr>\n      <th>31</th>\n      <td>Information Technology (IT)</td>\n      <td>84500.0</td>\n      <td>49100.0</td>\n      <td>74800.0</td>\n      <td>44500.0</td>\n      <td>129000.0</td>\n      <td>STEM</td>\n    </tr>\n    <tr>\n      <th>10</th>\n      <td>Civil Engineering</td>\n      <td>84600.0</td>\n      <td>53900.0</td>\n      <td>90500.0</td>\n      <td>63400.0</td>\n      <td>148000.0</td>\n      <td>STEM</td>\n    </tr>\n    <tr>\n      <th>4</th>\n      <td>Architecture</td>\n      <td>85400.0</td>\n      <td>41600.0</td>\n      <td>76800.0</td>\n      <td>50600.0</td>\n      <td>136000.0</td>\n      <td>Business</td>\n    </tr>\n    <tr>\n      <th>48</th>\n      <td>Sociology</td>\n      <td>87300.0</td>\n      <td>36500.0</td>\n      <td>58200.0</td>\n      <td>30700.0</td>\n      <td>118000.0</td>\n      <td>HASS</td>\n    </tr>\n    <tr>\n      <th>29</th>\n      <td>Hospitality &amp; Tourism</td>\n      <td>88500.0</td>\n      <td>37800.0</td>\n      <td>57500.0</td>\n      <td>35500.0</td>\n      <td>124000.0</td>\n      <td>Business</td>\n    </tr>\n    <tr>\n      <th>24</th>\n      <td>Geography</td>\n      <td>92000.0</td>\n      <td>41200.0</td>\n      <td>65500.0</td>\n      <td>40000.0</td>\n      <td>132000.0</td>\n      <td>HASS</td>\n    </tr>\n    <tr>\n      <th>46</th>\n      <td>Psychology</td>\n      <td>95400.0</td>\n      <td>35900.0</td>\n      <td>60400.0</td>\n      <td>31600.0</td>\n      <td>127000.0</td>\n      <td>HASS</td>\n    </tr>\n    <tr>\n      <th>12</th>\n      <td>Computer Engineering</td>\n      <td>95900.0</td>\n      <td>61400.0</td>\n      <td>105000.0</td>\n      <td>66100.0</td>\n      <td>162000.0</td>\n      <td>STEM</td>\n    </tr>\n    <tr>\n      <th>5</th>\n      <td>Art History</td>\n      <td>96200.0</td>\n      <td>35800.0</td>\n      <td>64900.0</td>\n      <td>28800.0</td>\n      <td>125000.0</td>\n      <td>HASS</td>\n    </tr>\n    <tr>\n      <th>1</th>\n      <td>Aerospace Engineering</td>\n      <td>96700.0</td>\n      <td>57700.0</td>\n      <td>101000.0</td>\n      <td>64300.0</td>\n      <td>161000.0</td>\n      <td>STEM</td>\n    </tr>\n    <tr>\n      <th>13</th>\n      <td>Computer Science</td>\n      <td>98000.0</td>\n      <td>55900.0</td>\n      <td>95500.0</td>\n      <td>56000.0</td>\n      <td>154000.0</td>\n      <td>STEM</td>\n    </tr>\n    <tr>\n      <th>6</th>\n      <td>Biology</td>\n      <td>98100.0</td>\n      <td>38800.0</td>\n      <td>64800.0</td>\n      <td>36900.0</td>\n      <td>135000.0</td>\n      <td>STEM</td>\n    </tr>\n    <tr>\n      <th>19</th>\n      <td>Electrical Engineering</td>\n      <td>98700.0</td>\n      <td>60900.0</td>\n      <td>103000.0</td>\n      <td>69300.0</td>\n      <td>168000.0</td>\n      <td>STEM</td>\n    </tr>\n    <tr>\n      <th>38</th>\n      <td>Mechanical Engineering</td>\n      <td>99300.0</td>\n      <td>57900.0</td>\n      <td>93600.0</td>\n      <td>63700.0</td>\n      <td>163000.0</td>\n      <td>STEM</td>\n    </tr>\n    <tr>\n      <th>20</th>\n      <td>English</td>\n      <td>99600.0</td>\n      <td>38000.0</td>\n      <td>64700.0</td>\n      <td>33400.0</td>\n      <td>133000.0</td>\n      <td>HASS</td>\n    </tr>\n    <tr>\n      <th>35</th>\n      <td>Management Information Systems (MIS)</td>\n      <td>100700.0</td>\n      <td>49200.0</td>\n      <td>82300.0</td>\n      <td>45300.0</td>\n      <td>146000.0</td>\n      <td>STEM</td>\n    </tr>\n    <tr>\n      <th>21</th>\n      <td>Film</td>\n      <td>102100.0</td>\n      <td>37900.0</td>\n      <td>68500.0</td>\n      <td>33900.0</td>\n      <td>136000.0</td>\n      <td>HASS</td>\n    </tr>\n    <tr>\n      <th>9</th>\n      <td>Chemistry</td>\n      <td>102700.0</td>\n      <td>42600.0</td>\n      <td>79900.0</td>\n      <td>45300.0</td>\n      <td>148000.0</td>\n      <td>STEM</td>\n    </tr>\n    <tr>\n      <th>3</th>\n      <td>Anthropology</td>\n      <td>104200.0</td>\n      <td>36800.0</td>\n      <td>61500.0</td>\n      <td>33800.0</td>\n      <td>138000.0</td>\n      <td>HASS</td>\n    </tr>\n    <tr>\n      <th>11</th>\n      <td>Communications</td>\n      <td>105500.0</td>\n      <td>38100.0</td>\n      <td>70000.0</td>\n      <td>37500.0</td>\n      <td>143000.0</td>\n      <td>HASS</td>\n    </tr>\n    <tr>\n      <th>34</th>\n      <td>Journalism</td>\n      <td>106600.0</td>\n      <td>35600.0</td>\n      <td>66700.0</td>\n      <td>38400.0</td>\n      <td>145000.0</td>\n      <td>HASS</td>\n    </tr>\n    <tr>\n      <th>39</th>\n      <td>Music</td>\n      <td>107300.0</td>\n      <td>35900.0</td>\n      <td>55000.0</td>\n      <td>26700.0</td>\n      <td>134000.0</td>\n      <td>HASS</td>\n    </tr>\n    <tr>\n      <th>7</th>\n      <td>Business Management</td>\n      <td>108200.0</td>\n      <td>43000.0</td>\n      <td>72100.0</td>\n      <td>38800.0</td>\n      <td>147000.0</td>\n      <td>Business</td>\n    </tr>\n    <tr>\n      <th>0</th>\n      <td>Accounting</td>\n      <td>109800.0</td>\n      <td>46000.0</td>\n      <td>77100.0</td>\n      <td>42200.0</td>\n      <td>152000.0</td>\n      <td>Business</td>\n    </tr>\n    <tr>\n      <th>25</th>\n      <td>Geology</td>\n      <td>111000.0</td>\n      <td>43500.0</td>\n      <td>79500.0</td>\n      <td>45000.0</td>\n      <td>156000.0</td>\n      <td>STEM</td>\n    </tr>\n    <tr>\n      <th>28</th>\n      <td>History</td>\n      <td>112000.0</td>\n      <td>39200.0</td>\n      <td>71000.0</td>\n      <td>37000.0</td>\n      <td>149000.0</td>\n      <td>HASS</td>\n    </tr>\n    <tr>\n      <th>2</th>\n      <td>Agriculture</td>\n      <td>113700.0</td>\n      <td>42600.0</td>\n      <td>71900.0</td>\n      <td>36300.0</td>\n      <td>150000.0</td>\n      <td>Business</td>\n    </tr>\n    <tr>\n      <th>14</th>\n      <td>Construction</td>\n      <td>114700.0</td>\n      <td>53700.0</td>\n      <td>88900.0</td>\n      <td>56300.0</td>\n      <td>171000.0</td>\n      <td>Business</td>\n    </tr>\n    <tr>\n      <th>30</th>\n      <td>Industrial Engineering</td>\n      <td>115900.0</td>\n      <td>57700.0</td>\n      <td>94700.0</td>\n      <td>57100.0</td>\n      <td>173000.0</td>\n      <td>STEM</td>\n    </tr>\n    <tr>\n      <th>16</th>\n      <td>Drama</td>\n      <td>116300.0</td>\n      <td>35900.0</td>\n      <td>56900.0</td>\n      <td>36700.0</td>\n      <td>153000.0</td>\n      <td>HASS</td>\n    </tr>\n    <tr>\n      <th>33</th>\n      <td>International Relations</td>\n      <td>118800.0</td>\n      <td>40900.0</td>\n      <td>80900.0</td>\n      <td>38200.0</td>\n      <td>157000.0</td>\n      <td>HASS</td>\n    </tr>\n    <tr>\n      <th>44</th>\n      <td>Physics</td>\n      <td>122000.0</td>\n      <td>50300.0</td>\n      <td>97300.0</td>\n      <td>56000.0</td>\n      <td>178000.0</td>\n      <td>STEM</td>\n    </tr>\n    <tr>\n      <th>8</th>\n      <td>Chemical Engineering</td>\n      <td>122100.0</td>\n      <td>63200.0</td>\n      <td>107000.0</td>\n      <td>71900.0</td>\n      <td>194000.0</td>\n      <td>STEM</td>\n    </tr>\n    <tr>\n      <th>45</th>\n      <td>Political Science</td>\n      <td>126800.0</td>\n      <td>40800.0</td>\n      <td>78200.0</td>\n      <td>41200.0</td>\n      <td>168000.0</td>\n      <td>HASS</td>\n    </tr>\n    <tr>\n      <th>42</th>\n      <td>Philosophy</td>\n      <td>132500.0</td>\n      <td>39900.0</td>\n      <td>81200.0</td>\n      <td>35500.0</td>\n      <td>168000.0</td>\n      <td>HASS</td>\n    </tr>\n    <tr>\n      <th>36</th>\n      <td>Marketing</td>\n      <td>132900.0</td>\n      <td>40800.0</td>\n      <td>79600.0</td>\n      <td>42100.0</td>\n      <td>175000.0</td>\n      <td>Business</td>\n    </tr>\n    <tr>\n      <th>37</th>\n      <td>Math</td>\n      <td>137800.0</td>\n      <td>45400.0</td>\n      <td>92400.0</td>\n      <td>45200.0</td>\n      <td>183000.0</td>\n      <td>STEM</td>\n    </tr>\n    <tr>\n      <th>22</th>\n      <td>Finance</td>\n      <td>147800.0</td>\n      <td>47900.0</td>\n      <td>88300.0</td>\n      <td>47200.0</td>\n      <td>195000.0</td>\n      <td>Business</td>\n    </tr>\n    <tr>\n      <th>17</th>\n      <td>Economics</td>\n      <td>159400.0</td>\n      <td>50100.0</td>\n      <td>98600.0</td>\n      <td>50600.0</td>\n      <td>210000.0</td>\n      <td>Business</td>\n    </tr>\n  </tbody>\n</table>\n</div>"
     },
     "execution_count": 63,
     "metadata": {},
     "output_type": "execute_result"
    }
   ],
   "source": [
    "low_risk"
   ],
   "metadata": {
    "collapsed": false,
    "ExecuteTime": {
     "end_time": "2024-01-20T17:07:41.997856Z",
     "start_time": "2024-01-20T17:07:41.991204Z"
    }
   },
   "id": "e4208052b29c3a7f"
  },
  {
   "cell_type": "code",
   "execution_count": 64,
   "outputs": [
    {
     "data": {
      "text/plain": "           Undergraduate Major   Spread\n40                     Nursing  50700.0\n43         Physician Assistant  57600.0\n41                   Nutrition  65300.0\n49                     Spanish  65400.0\n27  Health Care Administration  66400.0",
      "text/html": "<div>\n<style scoped>\n    .dataframe tbody tr th:only-of-type {\n        vertical-align: middle;\n    }\n\n    .dataframe tbody tr th {\n        vertical-align: top;\n    }\n\n    .dataframe thead th {\n        text-align: right;\n    }\n</style>\n<table border=\"1\" class=\"dataframe\">\n  <thead>\n    <tr style=\"text-align: right;\">\n      <th></th>\n      <th>Undergraduate Major</th>\n      <th>Spread</th>\n    </tr>\n  </thead>\n  <tbody>\n    <tr>\n      <th>40</th>\n      <td>Nursing</td>\n      <td>50700.0</td>\n    </tr>\n    <tr>\n      <th>43</th>\n      <td>Physician Assistant</td>\n      <td>57600.0</td>\n    </tr>\n    <tr>\n      <th>41</th>\n      <td>Nutrition</td>\n      <td>65300.0</td>\n    </tr>\n    <tr>\n      <th>49</th>\n      <td>Spanish</td>\n      <td>65400.0</td>\n    </tr>\n    <tr>\n      <th>27</th>\n      <td>Health Care Administration</td>\n      <td>66400.0</td>\n    </tr>\n  </tbody>\n</table>\n</div>"
     },
     "execution_count": 64,
     "metadata": {},
     "output_type": "execute_result"
    }
   ],
   "source": [
    "low_risk[['Undergraduate Major', 'Spread']].head()"
   ],
   "metadata": {
    "collapsed": false,
    "ExecuteTime": {
     "end_time": "2024-01-20T17:07:42.711283Z",
     "start_time": "2024-01-20T17:07:42.702407Z"
    }
   },
   "id": "10d6deb9fd97f4c9"
  },
  {
   "cell_type": "markdown",
   "source": [
    "#### **Using the .sort_values() method, can you find the degrees with the highest potential? Find the top 5 degrees with the highest values in the 90th percentile.**\n",
    "\n",
    "#### **Also, find the degrees with the greatest spread in salaries. Which majors have the largest difference between high and low earners after graduation**\n",
    "\n"
   ],
   "metadata": {
    "collapsed": false
   },
   "id": "d604fb1128881e9f"
  },
  {
   "cell_type": "markdown",
   "source": [
    "**Majors with the Highest Potential**"
   ],
   "metadata": {
    "collapsed": false
   },
   "id": "7575112e7af9a036"
  },
  {
   "cell_type": "code",
   "execution_count": 65,
   "outputs": [
    {
     "data": {
      "text/plain": "     Undergraduate Major  Mid-Career 90th Percentile Salary\n17             Economics                           210000.0\n22               Finance                           195000.0\n8   Chemical Engineering                           194000.0\n37                  Math                           183000.0\n44               Physics                           178000.0",
      "text/html": "<div>\n<style scoped>\n    .dataframe tbody tr th:only-of-type {\n        vertical-align: middle;\n    }\n\n    .dataframe tbody tr th {\n        vertical-align: top;\n    }\n\n    .dataframe thead th {\n        text-align: right;\n    }\n</style>\n<table border=\"1\" class=\"dataframe\">\n  <thead>\n    <tr style=\"text-align: right;\">\n      <th></th>\n      <th>Undergraduate Major</th>\n      <th>Mid-Career 90th Percentile Salary</th>\n    </tr>\n  </thead>\n  <tbody>\n    <tr>\n      <th>17</th>\n      <td>Economics</td>\n      <td>210000.0</td>\n    </tr>\n    <tr>\n      <th>22</th>\n      <td>Finance</td>\n      <td>195000.0</td>\n    </tr>\n    <tr>\n      <th>8</th>\n      <td>Chemical Engineering</td>\n      <td>194000.0</td>\n    </tr>\n    <tr>\n      <th>37</th>\n      <td>Math</td>\n      <td>183000.0</td>\n    </tr>\n    <tr>\n      <th>44</th>\n      <td>Physics</td>\n      <td>178000.0</td>\n    </tr>\n  </tbody>\n</table>\n</div>"
     },
     "execution_count": 65,
     "metadata": {},
     "output_type": "execute_result"
    }
   ],
   "source": [
    "highest_potential = clean_df.sort_values('Mid-Career 90th Percentile Salary', ascending=False)\n",
    "highest_potential[['Undergraduate Major', 'Mid-Career 90th Percentile Salary']].head()"
   ],
   "metadata": {
    "collapsed": false,
    "ExecuteTime": {
     "end_time": "2024-01-20T17:09:45.296350Z",
     "start_time": "2024-01-20T17:09:45.270967Z"
    }
   },
   "id": "e007584d573176ee"
  },
  {
   "cell_type": "markdown",
   "source": [
    "**Majors with the Greatest Spread in Salaries**"
   ],
   "metadata": {
    "collapsed": false
   },
   "id": "f13c2c86a9a677b3"
  },
  {
   "cell_type": "code",
   "execution_count": 66,
   "outputs": [
    {
     "data": {
      "text/plain": "   Undergraduate Major    Spread\n17           Economics  159400.0\n22             Finance  147800.0\n37                Math  137800.0\n36           Marketing  132900.0\n42          Philosophy  132500.0",
      "text/html": "<div>\n<style scoped>\n    .dataframe tbody tr th:only-of-type {\n        vertical-align: middle;\n    }\n\n    .dataframe tbody tr th {\n        vertical-align: top;\n    }\n\n    .dataframe thead th {\n        text-align: right;\n    }\n</style>\n<table border=\"1\" class=\"dataframe\">\n  <thead>\n    <tr style=\"text-align: right;\">\n      <th></th>\n      <th>Undergraduate Major</th>\n      <th>Spread</th>\n    </tr>\n  </thead>\n  <tbody>\n    <tr>\n      <th>17</th>\n      <td>Economics</td>\n      <td>159400.0</td>\n    </tr>\n    <tr>\n      <th>22</th>\n      <td>Finance</td>\n      <td>147800.0</td>\n    </tr>\n    <tr>\n      <th>37</th>\n      <td>Math</td>\n      <td>137800.0</td>\n    </tr>\n    <tr>\n      <th>36</th>\n      <td>Marketing</td>\n      <td>132900.0</td>\n    </tr>\n    <tr>\n      <th>42</th>\n      <td>Philosophy</td>\n      <td>132500.0</td>\n    </tr>\n  </tbody>\n</table>\n</div>"
     },
     "execution_count": 66,
     "metadata": {},
     "output_type": "execute_result"
    }
   ],
   "source": [
    "highest_spread = clean_df.sort_values('Spread', ascending=False)\n",
    "highest_spread[['Undergraduate Major', 'Spread']].head()"
   ],
   "metadata": {
    "collapsed": false,
    "ExecuteTime": {
     "end_time": "2024-01-20T17:15:56.287566Z",
     "start_time": "2024-01-20T17:15:56.260071Z"
    }
   },
   "id": "1c50732340bb64e7"
  },
  {
   "cell_type": "markdown",
   "source": [
    "**We have three categories in the 'Group' column: STEM, HASS and Business. Let's count how many majors we have in each category:**"
   ],
   "metadata": {
    "collapsed": false
   },
   "id": "ea45df2db80a027"
  },
  {
   "cell_type": "code",
   "execution_count": 67,
   "outputs": [
    {
     "data": {
      "text/plain": "     Undergraduate Major    Spread  Starting Median Salary  \\\n0             Accounting  109800.0                 46000.0   \n1  Aerospace Engineering   96700.0                 57700.0   \n2            Agriculture  113700.0                 42600.0   \n3           Anthropology  104200.0                 36800.0   \n4           Architecture   85400.0                 41600.0   \n\n   Mid-Career Median Salary  Mid-Career 10th Percentile Salary  \\\n0                   77100.0                            42200.0   \n1                  101000.0                            64300.0   \n2                   71900.0                            36300.0   \n3                   61500.0                            33800.0   \n4                   76800.0                            50600.0   \n\n   Mid-Career 90th Percentile Salary     Group  \n0                           152000.0  Business  \n1                           161000.0      STEM  \n2                           150000.0  Business  \n3                           138000.0      HASS  \n4                           136000.0  Business  ",
      "text/html": "<div>\n<style scoped>\n    .dataframe tbody tr th:only-of-type {\n        vertical-align: middle;\n    }\n\n    .dataframe tbody tr th {\n        vertical-align: top;\n    }\n\n    .dataframe thead th {\n        text-align: right;\n    }\n</style>\n<table border=\"1\" class=\"dataframe\">\n  <thead>\n    <tr style=\"text-align: right;\">\n      <th></th>\n      <th>Undergraduate Major</th>\n      <th>Spread</th>\n      <th>Starting Median Salary</th>\n      <th>Mid-Career Median Salary</th>\n      <th>Mid-Career 10th Percentile Salary</th>\n      <th>Mid-Career 90th Percentile Salary</th>\n      <th>Group</th>\n    </tr>\n  </thead>\n  <tbody>\n    <tr>\n      <th>0</th>\n      <td>Accounting</td>\n      <td>109800.0</td>\n      <td>46000.0</td>\n      <td>77100.0</td>\n      <td>42200.0</td>\n      <td>152000.0</td>\n      <td>Business</td>\n    </tr>\n    <tr>\n      <th>1</th>\n      <td>Aerospace Engineering</td>\n      <td>96700.0</td>\n      <td>57700.0</td>\n      <td>101000.0</td>\n      <td>64300.0</td>\n      <td>161000.0</td>\n      <td>STEM</td>\n    </tr>\n    <tr>\n      <th>2</th>\n      <td>Agriculture</td>\n      <td>113700.0</td>\n      <td>42600.0</td>\n      <td>71900.0</td>\n      <td>36300.0</td>\n      <td>150000.0</td>\n      <td>Business</td>\n    </tr>\n    <tr>\n      <th>3</th>\n      <td>Anthropology</td>\n      <td>104200.0</td>\n      <td>36800.0</td>\n      <td>61500.0</td>\n      <td>33800.0</td>\n      <td>138000.0</td>\n      <td>HASS</td>\n    </tr>\n    <tr>\n      <th>4</th>\n      <td>Architecture</td>\n      <td>85400.0</td>\n      <td>41600.0</td>\n      <td>76800.0</td>\n      <td>50600.0</td>\n      <td>136000.0</td>\n      <td>Business</td>\n    </tr>\n  </tbody>\n</table>\n</div>"
     },
     "execution_count": 67,
     "metadata": {},
     "output_type": "execute_result"
    }
   ],
   "source": [
    "clean_df.head()"
   ],
   "metadata": {
    "collapsed": false,
    "ExecuteTime": {
     "end_time": "2024-01-20T17:18:38.899881Z",
     "start_time": "2024-01-20T17:18:38.887617Z"
    }
   },
   "id": "34b3dda033eef8c1"
  },
  {
   "cell_type": "code",
   "execution_count": 68,
   "outputs": [
    {
     "data": {
      "text/plain": "          Undergraduate Major  Spread  Starting Median Salary  \\\nGroup                                                           \nBusiness                   12      12                      12   \nHASS                       22      22                      22   \nSTEM                       16      16                      16   \n\n          Mid-Career Median Salary  Mid-Career 10th Percentile Salary  \\\nGroup                                                                   \nBusiness                        12                                 12   \nHASS                            22                                 22   \nSTEM                            16                                 16   \n\n          Mid-Career 90th Percentile Salary  \nGroup                                        \nBusiness                                 12  \nHASS                                     22  \nSTEM                                     16  ",
      "text/html": "<div>\n<style scoped>\n    .dataframe tbody tr th:only-of-type {\n        vertical-align: middle;\n    }\n\n    .dataframe tbody tr th {\n        vertical-align: top;\n    }\n\n    .dataframe thead th {\n        text-align: right;\n    }\n</style>\n<table border=\"1\" class=\"dataframe\">\n  <thead>\n    <tr style=\"text-align: right;\">\n      <th></th>\n      <th>Undergraduate Major</th>\n      <th>Spread</th>\n      <th>Starting Median Salary</th>\n      <th>Mid-Career Median Salary</th>\n      <th>Mid-Career 10th Percentile Salary</th>\n      <th>Mid-Career 90th Percentile Salary</th>\n    </tr>\n    <tr>\n      <th>Group</th>\n      <th></th>\n      <th></th>\n      <th></th>\n      <th></th>\n      <th></th>\n      <th></th>\n    </tr>\n  </thead>\n  <tbody>\n    <tr>\n      <th>Business</th>\n      <td>12</td>\n      <td>12</td>\n      <td>12</td>\n      <td>12</td>\n      <td>12</td>\n      <td>12</td>\n    </tr>\n    <tr>\n      <th>HASS</th>\n      <td>22</td>\n      <td>22</td>\n      <td>22</td>\n      <td>22</td>\n      <td>22</td>\n      <td>22</td>\n    </tr>\n    <tr>\n      <th>STEM</th>\n      <td>16</td>\n      <td>16</td>\n      <td>16</td>\n      <td>16</td>\n      <td>16</td>\n      <td>16</td>\n    </tr>\n  </tbody>\n</table>\n</div>"
     },
     "execution_count": 68,
     "metadata": {},
     "output_type": "execute_result"
    }
   ],
   "source": [
    "clean_df.groupby(\"Group\").count()"
   ],
   "metadata": {
    "collapsed": false,
    "ExecuteTime": {
     "end_time": "2024-01-20T17:18:45.075516Z",
     "start_time": "2024-01-20T17:18:45.044143Z"
    }
   },
   "id": "ffd69fee718e4b40"
  },
  {
   "cell_type": "markdown",
   "source": [
    "**Now can you use the .mean() method to find the average salary by group?**"
   ],
   "metadata": {
    "collapsed": false
   },
   "id": "27f39a8ce472e2c6"
  },
  {
   "cell_type": "code",
   "execution_count": 78,
   "outputs": [
    {
     "data": {
      "text/plain": "Undergraduate Major                   object\nSpread                               float64\nStarting Median Salary               float64\nMid-Career Median Salary             float64\nMid-Career 10th Percentile Salary    float64\nMid-Career 90th Percentile Salary    float64\nGroup                                 object\ndtype: object"
     },
     "execution_count": 78,
     "metadata": {},
     "output_type": "execute_result"
    }
   ],
   "source": [
    "clean_df.dtypes\n"
   ],
   "metadata": {
    "collapsed": false,
    "ExecuteTime": {
     "end_time": "2024-01-20T17:24:55.871679Z",
     "start_time": "2024-01-20T17:24:55.852022Z"
    }
   },
   "id": "4c9c7a1f1e6c9916"
  },
  {
   "cell_type": "markdown",
   "source": [
    "**IT GIVES AN ERROR IF YOU DON'T SPECIFY THE COLUMNS AS THE COLUMNS NAMED:\n",
    "\"Undergraduate Major\" and\n",
    "\"Group\"\n",
    "are OBJECT data types and not numeric**"
   ],
   "metadata": {
    "collapsed": false
   },
   "id": "74445cff2f8c5fbe"
  },
  {
   "cell_type": "code",
   "execution_count": 75,
   "outputs": [],
   "source": [
    "numeric_columns = ['Spread', 'Starting Median Salary', 'Mid-Career Median Salary', 'Mid-Career 10th Percentile Salary', 'Mid-Career 90th Percentile Salary']"
   ],
   "metadata": {
    "collapsed": false,
    "ExecuteTime": {
     "end_time": "2024-01-20T17:24:37.981625Z",
     "start_time": "2024-01-20T17:24:37.962783Z"
    }
   },
   "id": "6930b994c4854ef6"
  },
  {
   "cell_type": "code",
   "execution_count": 76,
   "outputs": [
    {
     "data": {
      "text/plain": "                 Spread  Starting Median Salary  Mid-Career Median Salary  \\\nGroup                                                                       \nBusiness  103958.333333            44633.333333              75083.333333   \nHASS       95218.181818            37186.363636              62968.181818   \nSTEM      101600.000000            53862.500000              90812.500000   \n\n          Mid-Career 10th Percentile Salary  Mid-Career 90th Percentile Salary  \nGroup                                                                           \nBusiness                       43566.666667                      147525.000000  \nHASS                           34145.454545                      129363.636364  \nSTEM                           56025.000000                      157625.000000  ",
      "text/html": "<div>\n<style scoped>\n    .dataframe tbody tr th:only-of-type {\n        vertical-align: middle;\n    }\n\n    .dataframe tbody tr th {\n        vertical-align: top;\n    }\n\n    .dataframe thead th {\n        text-align: right;\n    }\n</style>\n<table border=\"1\" class=\"dataframe\">\n  <thead>\n    <tr style=\"text-align: right;\">\n      <th></th>\n      <th>Spread</th>\n      <th>Starting Median Salary</th>\n      <th>Mid-Career Median Salary</th>\n      <th>Mid-Career 10th Percentile Salary</th>\n      <th>Mid-Career 90th Percentile Salary</th>\n    </tr>\n    <tr>\n      <th>Group</th>\n      <th></th>\n      <th></th>\n      <th></th>\n      <th></th>\n      <th></th>\n    </tr>\n  </thead>\n  <tbody>\n    <tr>\n      <th>Business</th>\n      <td>103958.333333</td>\n      <td>44633.333333</td>\n      <td>75083.333333</td>\n      <td>43566.666667</td>\n      <td>147525.000000</td>\n    </tr>\n    <tr>\n      <th>HASS</th>\n      <td>95218.181818</td>\n      <td>37186.363636</td>\n      <td>62968.181818</td>\n      <td>34145.454545</td>\n      <td>129363.636364</td>\n    </tr>\n    <tr>\n      <th>STEM</th>\n      <td>101600.000000</td>\n      <td>53862.500000</td>\n      <td>90812.500000</td>\n      <td>56025.000000</td>\n      <td>157625.000000</td>\n    </tr>\n  </tbody>\n</table>\n</div>"
     },
     "execution_count": 76,
     "metadata": {},
     "output_type": "execute_result"
    }
   ],
   "source": [
    "clean_df.groupby(\"Group\")[numeric_columns].mean()"
   ],
   "metadata": {
    "collapsed": false,
    "ExecuteTime": {
     "end_time": "2024-01-20T17:24:38.444534Z",
     "start_time": "2024-01-20T17:24:38.436180Z"
    }
   },
   "id": "4dfeff99f8a32a65"
  },
  {
   "cell_type": "markdown",
   "source": [
    "Today's Learning Points\n",
    "\n",
    "\n",
    "\n",
    "Use **.head(), .tail(), .shape** and **.columns** to explore your DataFrame and find out the number of rows and columns as well as the column names.\n",
    "\n",
    "Look for NaN (not a number) values with **.isna()** and consider using **.dropna()** to clean up your DataFrame.\n",
    "\n",
    "You can access entire columns of a DataFrame using the square bracket notation: df['column name'] or df[['column name 1', 'column name 2', 'column name 3']]\n",
    "\n",
    "You can access individual cells in a DataFrame by chaining square brackets df['column name'][index] or using df['column name'].loc[index]\n",
    "\n",
    "The largest and smallest values, as well as their positions, can be found with methods like **.max(), .min(), .idxmax() and .idxmin()**\n",
    "\n",
    "You can sort the DataFrame with .sort_values() and add new columns with **.insert()**\n",
    "\n",
    "To create an Excel Style Pivot Table by grouping entries that belong to a particular category use the **.groupby()** method"
   ],
   "metadata": {
    "collapsed": false
   },
   "id": "e7ee1c4c84269ad1"
  },
  {
   "cell_type": "code",
   "execution_count": null,
   "outputs": [],
   "source": [],
   "metadata": {
    "collapsed": false
   },
   "id": "9d0f182f4bc26088"
  }
 ],
 "metadata": {
  "kernelspec": {
   "display_name": "Python 3",
   "language": "python",
   "name": "python3"
  },
  "language_info": {
   "codemirror_mode": {
    "name": "ipython",
    "version": 2
   },
   "file_extension": ".py",
   "mimetype": "text/x-python",
   "name": "python",
   "nbconvert_exporter": "python",
   "pygments_lexer": "ipython2",
   "version": "2.7.6"
  }
 },
 "nbformat": 4,
 "nbformat_minor": 5
}
