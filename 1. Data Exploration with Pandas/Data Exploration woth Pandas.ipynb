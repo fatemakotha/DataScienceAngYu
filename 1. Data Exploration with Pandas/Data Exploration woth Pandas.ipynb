{
 "cells": [
  {
   "cell_type": "code",
   "execution_count": 1,
   "id": "initial_id",
   "metadata": {
    "collapsed": true,
    "ExecuteTime": {
     "end_time": "2024-01-20T15:14:37.439560Z",
     "start_time": "2024-01-20T15:14:37.162273Z"
    }
   },
   "outputs": [],
   "source": [
    "import pandas as pd\n"
   ]
  },
  {
   "cell_type": "markdown",
   "source": [
    "# DATA EXPLORATION:\n",
    "Read the csv file and store it in the Pandas dataframe:"
   ],
   "metadata": {
    "collapsed": false
   },
   "id": "633d0c1bf89277c1"
  },
  {
   "cell_type": "code",
   "execution_count": 2,
   "outputs": [],
   "source": [
    "df = pd.read_csv(\"QueryResults (1).csv\", names=[\"DATE\", \"TAG\", \"POSTS\"], header=0)"
   ],
   "metadata": {
    "collapsed": false,
    "ExecuteTime": {
     "end_time": "2024-01-20T15:15:23.897339Z",
     "start_time": "2024-01-20T15:15:23.889995Z"
    }
   },
   "id": "38f7e27d907e8bd8"
  },
  {
   "cell_type": "markdown",
   "source": [
    "##### Next, we use .head() and .tail() to look at the first and last 5 rows.\n",
    "This allows us to verify that our column naming worked as intended."
   ],
   "metadata": {
    "collapsed": false
   },
   "id": "240277593606dd76"
  },
  {
   "cell_type": "code",
   "execution_count": 3,
   "outputs": [
    {
     "data": {
      "text/plain": "                  DATE         TAG  POSTS\n0  2008-07-01 00:00:00          c#      3\n1  2008-08-01 00:00:00    assembly      8\n2  2008-08-01 00:00:00  javascript    162\n3  2008-08-01 00:00:00           c     85\n4  2008-08-01 00:00:00      python    124",
      "text/html": "<div>\n<style scoped>\n    .dataframe tbody tr th:only-of-type {\n        vertical-align: middle;\n    }\n\n    .dataframe tbody tr th {\n        vertical-align: top;\n    }\n\n    .dataframe thead th {\n        text-align: right;\n    }\n</style>\n<table border=\"1\" class=\"dataframe\">\n  <thead>\n    <tr style=\"text-align: right;\">\n      <th></th>\n      <th>DATE</th>\n      <th>TAG</th>\n      <th>POSTS</th>\n    </tr>\n  </thead>\n  <tbody>\n    <tr>\n      <th>0</th>\n      <td>2008-07-01 00:00:00</td>\n      <td>c#</td>\n      <td>3</td>\n    </tr>\n    <tr>\n      <th>1</th>\n      <td>2008-08-01 00:00:00</td>\n      <td>assembly</td>\n      <td>8</td>\n    </tr>\n    <tr>\n      <th>2</th>\n      <td>2008-08-01 00:00:00</td>\n      <td>javascript</td>\n      <td>162</td>\n    </tr>\n    <tr>\n      <th>3</th>\n      <td>2008-08-01 00:00:00</td>\n      <td>c</td>\n      <td>85</td>\n    </tr>\n    <tr>\n      <th>4</th>\n      <td>2008-08-01 00:00:00</td>\n      <td>python</td>\n      <td>124</td>\n    </tr>\n  </tbody>\n</table>\n</div>"
     },
     "execution_count": 3,
     "metadata": {},
     "output_type": "execute_result"
    }
   ],
   "source": [
    "df.head(5)"
   ],
   "metadata": {
    "collapsed": false,
    "ExecuteTime": {
     "end_time": "2024-01-20T15:16:18.826056Z",
     "start_time": "2024-01-20T15:16:18.811389Z"
    }
   },
   "id": "4fedc9cdcc4b8d4d"
  },
  {
   "cell_type": "code",
   "execution_count": 4,
   "outputs": [
    {
     "data": {
      "text/plain": "                     DATE    TAG  POSTS\n1986  2020-07-01 00:00:00      r   5694\n1987  2020-07-01 00:00:00     go    743\n1988  2020-07-01 00:00:00   ruby    775\n1989  2020-07-01 00:00:00   perl    182\n1990  2020-07-01 00:00:00  swift   3607",
      "text/html": "<div>\n<style scoped>\n    .dataframe tbody tr th:only-of-type {\n        vertical-align: middle;\n    }\n\n    .dataframe tbody tr th {\n        vertical-align: top;\n    }\n\n    .dataframe thead th {\n        text-align: right;\n    }\n</style>\n<table border=\"1\" class=\"dataframe\">\n  <thead>\n    <tr style=\"text-align: right;\">\n      <th></th>\n      <th>DATE</th>\n      <th>TAG</th>\n      <th>POSTS</th>\n    </tr>\n  </thead>\n  <tbody>\n    <tr>\n      <th>1986</th>\n      <td>2020-07-01 00:00:00</td>\n      <td>r</td>\n      <td>5694</td>\n    </tr>\n    <tr>\n      <th>1987</th>\n      <td>2020-07-01 00:00:00</td>\n      <td>go</td>\n      <td>743</td>\n    </tr>\n    <tr>\n      <th>1988</th>\n      <td>2020-07-01 00:00:00</td>\n      <td>ruby</td>\n      <td>775</td>\n    </tr>\n    <tr>\n      <th>1989</th>\n      <td>2020-07-01 00:00:00</td>\n      <td>perl</td>\n      <td>182</td>\n    </tr>\n    <tr>\n      <th>1990</th>\n      <td>2020-07-01 00:00:00</td>\n      <td>swift</td>\n      <td>3607</td>\n    </tr>\n  </tbody>\n</table>\n</div>"
     },
     "execution_count": 4,
     "metadata": {},
     "output_type": "execute_result"
    }
   ],
   "source": [
    "df.tail(5)"
   ],
   "metadata": {
    "collapsed": false,
    "ExecuteTime": {
     "end_time": "2024-01-20T15:16:21.215457Z",
     "start_time": "2024-01-20T15:16:21.202551Z"
    }
   },
   "id": "c834c8926dae8101"
  },
  {
   "cell_type": "markdown",
   "source": [
    "#### Check the dimensions of the DataFrame, we use our old friend .shape. This tells us we have 1991 rows and 3 columns.\n"
   ],
   "metadata": {
    "collapsed": false
   },
   "id": "e59e6f8ec4978d34"
  },
  {
   "cell_type": "code",
   "execution_count": 5,
   "outputs": [
    {
     "data": {
      "text/plain": "(1991, 3)"
     },
     "execution_count": 5,
     "metadata": {},
     "output_type": "execute_result"
    }
   ],
   "source": [
    "df.shape"
   ],
   "metadata": {
    "collapsed": false,
    "ExecuteTime": {
     "end_time": "2024-01-20T15:16:53.274722Z",
     "start_time": "2024-01-20T15:16:53.267880Z"
    }
   },
   "id": "12313ec8e2df23a9"
  },
  {
   "cell_type": "markdown",
   "source": [
    "#### Count the number of entries in each column we can use .count().\n",
    "Note that .count() will actually tell us the number of non-NaN values in each column."
   ],
   "metadata": {
    "collapsed": false
   },
   "id": "2c8f7ba47b46c3c5"
  },
  {
   "cell_type": "code",
   "execution_count": 6,
   "outputs": [
    {
     "data": {
      "text/plain": "<bound method DataFrame.count of                      DATE         TAG  POSTS\n0     2008-07-01 00:00:00          c#      3\n1     2008-08-01 00:00:00    assembly      8\n2     2008-08-01 00:00:00  javascript    162\n3     2008-08-01 00:00:00           c     85\n4     2008-08-01 00:00:00      python    124\n...                   ...         ...    ...\n1986  2020-07-01 00:00:00           r   5694\n1987  2020-07-01 00:00:00          go    743\n1988  2020-07-01 00:00:00        ruby    775\n1989  2020-07-01 00:00:00        perl    182\n1990  2020-07-01 00:00:00       swift   3607\n\n[1991 rows x 3 columns]>"
     },
     "execution_count": 6,
     "metadata": {},
     "output_type": "execute_result"
    }
   ],
   "source": [
    "df.count"
   ],
   "metadata": {
    "collapsed": false,
    "ExecuteTime": {
     "end_time": "2024-01-20T15:29:55.617279Z",
     "start_time": "2024-01-20T15:29:55.609043Z"
    }
   },
   "id": "f0c37fedbbd6941e"
  },
  {
   "cell_type": "markdown",
   "source": [
    "The TAG is the name of the programming language. \n",
    "So for example in July 2008, there were 3 posts tagged with the language C#. \n",
    "Given that the TAG serves as our category column, \n",
    "**can you figure out how to count the number of posts per language? Which programming language had the most number of posts since the creation of Stack Overflow?**\n",
    "\n",
    "Also, some languages are older like C and other languages are newer (like Swift). \n",
    "The dataset starts in July 2008, so some languages will not have any posts for every month. \n",
    "**Can you count how many months of posts exist for each programming language?**"
   ],
   "metadata": {
    "collapsed": false
   },
   "id": "c1e98f5e55e48431"
  },
  {
   "cell_type": "code",
   "execution_count": null,
   "outputs": [],
   "source": [],
   "metadata": {
    "collapsed": false
   },
   "id": "e0162bd3db4f9b33"
  }
 ],
 "metadata": {
  "kernelspec": {
   "display_name": "Python 3",
   "language": "python",
   "name": "python3"
  },
  "language_info": {
   "codemirror_mode": {
    "name": "ipython",
    "version": 2
   },
   "file_extension": ".py",
   "mimetype": "text/x-python",
   "name": "python",
   "nbconvert_exporter": "python",
   "pygments_lexer": "ipython2",
   "version": "2.7.6"
  }
 },
 "nbformat": 4,
 "nbformat_minor": 5
}
